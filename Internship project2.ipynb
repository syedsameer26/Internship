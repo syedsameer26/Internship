{
 "cells": [
  {
   "cell_type": "markdown",
   "id": "9edb2ac3",
   "metadata": {},
   "source": [
    "# Answer 1"
   ]
  },
  {
   "cell_type": "code",
   "execution_count": 1,
   "id": "d5ea9c91",
   "metadata": {},
   "outputs": [],
   "source": [
    "#Importing all the necessary laibraries\n",
    "import selenium \n",
    "import pandas as pd\n",
    "from selenium import webdriver\n",
    "import warnings\n",
    "warnings.filterwarnings(\"ignore\")\n",
    "# Time is used to stop search engine for few seconds\n",
    "import time"
   ]
  },
  {
   "cell_type": "code",
   "execution_count": 2,
   "id": "b01e67a9",
   "metadata": {},
   "outputs": [],
   "source": [
    "#Conecting to the web drvier\n",
    "driver = webdriver.Chrome(r\"C:\\New folder\\chromedriver.exe\")"
   ]
  },
  {
   "cell_type": "code",
   "execution_count": 3,
   "id": "c41169b3",
   "metadata": {},
   "outputs": [],
   "source": [
    "#Opening up the required website\n",
    "driver.get(\"https://www.naukri.com/\")"
   ]
  },
  {
   "cell_type": "code",
   "execution_count": 4,
   "id": "ec430ddb",
   "metadata": {},
   "outputs": [],
   "source": [
    "#Entering designation \n",
    "designation = driver.find_element_by_class_name(\"suggestor-input \")\n",
    "designation.send_keys(\"Data Analyst\")\n",
    "\n",
    "#Finding location by xpath\n",
    "location = driver.find_element_by_xpath(\"/html/body/div/div[2]/div[3]/div/div/div[5]/div/div/div/input\")\n",
    "location.send_keys(\"Bangalore\")"
   ]
  },
  {
   "cell_type": "code",
   "execution_count": 5,
   "id": "f19b58ee",
   "metadata": {},
   "outputs": [],
   "source": [
    "#Clicking on search button \n",
    "search_button= driver.find_element_by_xpath(\"/html/body/div/div[2]/div[3]/div/div/div[6]\")\n",
    "search_button.click()"
   ]
  },
  {
   "cell_type": "raw",
   "id": "a9980db0",
   "metadata": {},
   "source": [
    "Now lets create 4 empty list.Which is used to store 4 features which we have to extract\n",
    "\n",
    "1.job_title\n",
    "2.job_location\n",
    "3.company_names\n",
    "4.experience_required"
   ]
  },
  {
   "cell_type": "code",
   "execution_count": 6,
   "id": "321c2dd1",
   "metadata": {},
   "outputs": [],
   "source": [
    "job_title=[]\n",
    "location_list=[]\n",
    "company_names=[]\n",
    "experience_required_list=[]"
   ]
  },
  {
   "cell_type": "code",
   "execution_count": 7,
   "id": "9cf7cc04",
   "metadata": {
    "collapsed": true
   },
   "outputs": [
    {
     "data": {
      "text/plain": [
       "[<selenium.webdriver.remote.webelement.WebElement (session=\"bc85d80da1beb30c207aa0218a383d94\", element=\"2d7dfd83-5ef3-4a65-a1db-c7d8189403b4\")>,\n",
       " <selenium.webdriver.remote.webelement.WebElement (session=\"bc85d80da1beb30c207aa0218a383d94\", element=\"e260be4d-383b-47f5-a3d7-157cccb7c786\")>,\n",
       " <selenium.webdriver.remote.webelement.WebElement (session=\"bc85d80da1beb30c207aa0218a383d94\", element=\"fe70fe7e-21e0-44c8-b307-d52a9a9aa4f0\")>,\n",
       " <selenium.webdriver.remote.webelement.WebElement (session=\"bc85d80da1beb30c207aa0218a383d94\", element=\"604dc7fb-d828-4392-8981-fcbf17a0b501\")>,\n",
       " <selenium.webdriver.remote.webelement.WebElement (session=\"bc85d80da1beb30c207aa0218a383d94\", element=\"198f5fd0-6965-473f-807b-6d87efeab506\")>,\n",
       " <selenium.webdriver.remote.webelement.WebElement (session=\"bc85d80da1beb30c207aa0218a383d94\", element=\"f0664265-c1c6-4dcd-8a50-4dcd319721e0\")>,\n",
       " <selenium.webdriver.remote.webelement.WebElement (session=\"bc85d80da1beb30c207aa0218a383d94\", element=\"b8dcc109-7d58-42f0-b5f4-4f4323d79b30\")>,\n",
       " <selenium.webdriver.remote.webelement.WebElement (session=\"bc85d80da1beb30c207aa0218a383d94\", element=\"e18f2b5b-bd1d-4b8c-b362-074b5d817337\")>,\n",
       " <selenium.webdriver.remote.webelement.WebElement (session=\"bc85d80da1beb30c207aa0218a383d94\", element=\"9ad64c36-64eb-419d-a500-bdae23ad69e4\")>,\n",
       " <selenium.webdriver.remote.webelement.WebElement (session=\"bc85d80da1beb30c207aa0218a383d94\", element=\"62629066-601c-4e54-9d46-9f5b7b18ae84\")>]"
      ]
     },
     "execution_count": 7,
     "metadata": {},
     "output_type": "execute_result"
    }
   ],
   "source": [
    "#Lets extract all the tags having the job_titles\n",
    "titles_tag=driver.find_elements_by_xpath(\"//a[@class='title fw500 ellipsis']\")\n",
    "titles_tag[0:10]"
   ]
  },
  {
   "cell_type": "code",
   "execution_count": 8,
   "id": "839303d6",
   "metadata": {
    "collapsed": true
   },
   "outputs": [
    {
     "data": {
      "text/plain": [
       "['EY GDS Data Analyst-Finland based project',\n",
       " 'Business & Data Analyst - Alteryx (London)',\n",
       " 'Data analyst / Data scientist, AVP',\n",
       " 'Data analyst / Data scientist, Associate',\n",
       " 'Senior Mis Data Analyst',\n",
       " 'Junior Data Analyst/ Scientist- Fresher Position',\n",
       " 'Senior Data Analyst',\n",
       " 'Data Analyst / Business Analyst',\n",
       " 'Genpact Hiring For Data Analyst',\n",
       " 'data analyst/ data analytics / Business analyst- SQL/Python/SAS']"
      ]
     },
     "execution_count": 8,
     "metadata": {},
     "output_type": "execute_result"
    }
   ],
   "source": [
    "for i in titles_tag:\n",
    "    titles=i.text\n",
    "    job_title.append(titles)\n",
    "job_title[0:10]"
   ]
  },
  {
   "cell_type": "code",
   "execution_count": 9,
   "id": "87b046bf",
   "metadata": {
    "collapsed": true
   },
   "outputs": [
    {
     "data": {
      "text/plain": [
       "[<selenium.webdriver.remote.webelement.WebElement (session=\"bc85d80da1beb30c207aa0218a383d94\", element=\"9a793bc5-efc2-417f-9d7c-0f24811413bc\")>,\n",
       " <selenium.webdriver.remote.webelement.WebElement (session=\"bc85d80da1beb30c207aa0218a383d94\", element=\"39b899ca-24c2-410d-8105-2e3f89f5d293\")>,\n",
       " <selenium.webdriver.remote.webelement.WebElement (session=\"bc85d80da1beb30c207aa0218a383d94\", element=\"f5637f32-0f31-4aeb-8c6f-e12d4c976d83\")>,\n",
       " <selenium.webdriver.remote.webelement.WebElement (session=\"bc85d80da1beb30c207aa0218a383d94\", element=\"8e09497b-820c-4081-a4a6-d8b6fd5bec5d\")>,\n",
       " <selenium.webdriver.remote.webelement.WebElement (session=\"bc85d80da1beb30c207aa0218a383d94\", element=\"08725b7a-e237-42e6-adc4-501b6ccccc6b\")>,\n",
       " <selenium.webdriver.remote.webelement.WebElement (session=\"bc85d80da1beb30c207aa0218a383d94\", element=\"57b5e09d-95e5-4a04-8823-861afbec339b\")>,\n",
       " <selenium.webdriver.remote.webelement.WebElement (session=\"bc85d80da1beb30c207aa0218a383d94\", element=\"0be3d2a0-dbf7-483a-9da4-516d864308ed\")>,\n",
       " <selenium.webdriver.remote.webelement.WebElement (session=\"bc85d80da1beb30c207aa0218a383d94\", element=\"cddfada5-7009-4799-a1df-655ef1a7650f\")>,\n",
       " <selenium.webdriver.remote.webelement.WebElement (session=\"bc85d80da1beb30c207aa0218a383d94\", element=\"2bec9e91-049e-4865-889b-35cf23ba995f\")>,\n",
       " <selenium.webdriver.remote.webelement.WebElement (session=\"bc85d80da1beb30c207aa0218a383d94\", element=\"3f0c7721-3fdd-4776-aa1d-15a00e5e44ff\")>]"
      ]
     },
     "execution_count": 9,
     "metadata": {},
     "output_type": "execute_result"
    }
   ],
   "source": [
    "#extracting all the tags having location\n",
    "loc_tags= driver.find_elements_by_xpath(\"//li[@class='fleft grey-text br2 placeHolderLi location']\")\n",
    "loc_tags[0:10]"
   ]
  },
  {
   "cell_type": "code",
   "execution_count": 10,
   "id": "27024cf8",
   "metadata": {
    "collapsed": true
   },
   "outputs": [
    {
     "data": {
      "text/plain": [
       "['Bangalore/Bengaluru',\n",
       " 'Bangalore/Bengaluru, Delhi / NCR, Mumbai (All Areas)',\n",
       " 'Bangalore/Bengaluru',\n",
       " 'Bangalore/Bengaluru',\n",
       " 'Bangalore/Bengaluru(Sarjapur), Delhi / NCR, Mumbai (All Areas)',\n",
       " 'Remote',\n",
       " 'Bangalore/Bengaluru',\n",
       " 'Bangalore/Bengaluru',\n",
       " 'Bangalore/Bengaluru',\n",
       " 'Gurgaon/Gurugram, Bangalore/Bengaluru, Delhi / NCR\\n(WFH during Covid)']"
      ]
     },
     "execution_count": 10,
     "metadata": {},
     "output_type": "execute_result"
    }
   ],
   "source": [
    "for i in loc_tags:\n",
    "    loc=i.text\n",
    "    location_list.append(loc)\n",
    "location_list[0:10]"
   ]
  },
  {
   "cell_type": "code",
   "execution_count": 11,
   "id": "2ded64de",
   "metadata": {
    "collapsed": true
   },
   "outputs": [
    {
     "data": {
      "text/plain": [
       "[<selenium.webdriver.remote.webelement.WebElement (session=\"bc85d80da1beb30c207aa0218a383d94\", element=\"e4fb6116-95e8-41d0-acbc-357f44304374\")>,\n",
       " <selenium.webdriver.remote.webelement.WebElement (session=\"bc85d80da1beb30c207aa0218a383d94\", element=\"1a164331-ba7d-4342-980f-2e1707d8e8ef\")>,\n",
       " <selenium.webdriver.remote.webelement.WebElement (session=\"bc85d80da1beb30c207aa0218a383d94\", element=\"a276f2bd-adc8-421e-857d-70532f16ccf0\")>,\n",
       " <selenium.webdriver.remote.webelement.WebElement (session=\"bc85d80da1beb30c207aa0218a383d94\", element=\"7575c80d-2125-4cb6-9a2c-50b5617bdd7e\")>,\n",
       " <selenium.webdriver.remote.webelement.WebElement (session=\"bc85d80da1beb30c207aa0218a383d94\", element=\"1f8b7a36-131b-4377-81e3-3abe4771abe8\")>,\n",
       " <selenium.webdriver.remote.webelement.WebElement (session=\"bc85d80da1beb30c207aa0218a383d94\", element=\"23b1cbb3-2edf-46b5-8ebc-a21bf8fbcedf\")>,\n",
       " <selenium.webdriver.remote.webelement.WebElement (session=\"bc85d80da1beb30c207aa0218a383d94\", element=\"8f20e58d-c79b-4bfd-8635-19128e6de079\")>,\n",
       " <selenium.webdriver.remote.webelement.WebElement (session=\"bc85d80da1beb30c207aa0218a383d94\", element=\"ef4f04be-0f22-4e24-9f1a-c5da45263330\")>,\n",
       " <selenium.webdriver.remote.webelement.WebElement (session=\"bc85d80da1beb30c207aa0218a383d94\", element=\"927c99a2-3259-4c1e-b9b0-44103c8ee68e\")>,\n",
       " <selenium.webdriver.remote.webelement.WebElement (session=\"bc85d80da1beb30c207aa0218a383d94\", element=\"07877886-6a9c-4be3-a163-bcafbe49d4a1\")>]"
      ]
     },
     "execution_count": 11,
     "metadata": {},
     "output_type": "execute_result"
    }
   ],
   "source": [
    "#Extracting all the tags having companies name\n",
    "companies=driver.find_elements_by_xpath(\"//a[@class='subTitle ellipsis fleft']\")\n",
    "companies[0:10]"
   ]
  },
  {
   "cell_type": "code",
   "execution_count": 12,
   "id": "17da3fe2",
   "metadata": {
    "collapsed": true
   },
   "outputs": [
    {
     "data": {
      "text/plain": [
       "['EY',\n",
       " 'Imaginative Brains LLP',\n",
       " 'Deutsche Bank',\n",
       " 'Deutsche Bank',\n",
       " 'Barbeque Nation',\n",
       " 'Sejal Consulting Hub',\n",
       " 'Flipkart',\n",
       " 'METRO Cash & Carry',\n",
       " 'Genpact',\n",
       " 'Leading US MNC into Analytics']"
      ]
     },
     "execution_count": 12,
     "metadata": {},
     "output_type": "execute_result"
    }
   ],
   "source": [
    "for i in companies:\n",
    "    company=i.text\n",
    "    company_names.append(company)\n",
    "company_names[0:10]"
   ]
  },
  {
   "cell_type": "code",
   "execution_count": 13,
   "id": "b2ed2c22",
   "metadata": {
    "collapsed": true
   },
   "outputs": [
    {
     "data": {
      "text/plain": [
       "[<selenium.webdriver.remote.webelement.WebElement (session=\"bc85d80da1beb30c207aa0218a383d94\", element=\"11d6a8ae-ec3c-4925-a12c-851e3fc1abfa\")>,\n",
       " <selenium.webdriver.remote.webelement.WebElement (session=\"bc85d80da1beb30c207aa0218a383d94\", element=\"814d3958-b86e-444d-93dd-5a1293bdf06b\")>,\n",
       " <selenium.webdriver.remote.webelement.WebElement (session=\"bc85d80da1beb30c207aa0218a383d94\", element=\"ab700b93-1cd6-4516-84f5-361c67b38840\")>,\n",
       " <selenium.webdriver.remote.webelement.WebElement (session=\"bc85d80da1beb30c207aa0218a383d94\", element=\"d516a18c-5382-48a3-9643-7ebb00a4f93d\")>,\n",
       " <selenium.webdriver.remote.webelement.WebElement (session=\"bc85d80da1beb30c207aa0218a383d94\", element=\"0777fe79-6e82-48b2-867d-71df155a40f7\")>,\n",
       " <selenium.webdriver.remote.webelement.WebElement (session=\"bc85d80da1beb30c207aa0218a383d94\", element=\"6a0c055a-8fe4-4ab6-982c-bb53a7b42985\")>,\n",
       " <selenium.webdriver.remote.webelement.WebElement (session=\"bc85d80da1beb30c207aa0218a383d94\", element=\"5c5e407a-13d1-47e0-b7b6-a09cefbe61d7\")>,\n",
       " <selenium.webdriver.remote.webelement.WebElement (session=\"bc85d80da1beb30c207aa0218a383d94\", element=\"eade35b2-33d1-48c7-ac18-5561afc9880a\")>,\n",
       " <selenium.webdriver.remote.webelement.WebElement (session=\"bc85d80da1beb30c207aa0218a383d94\", element=\"0c8288d5-2d20-4eec-b4f1-dea904512469\")>,\n",
       " <selenium.webdriver.remote.webelement.WebElement (session=\"bc85d80da1beb30c207aa0218a383d94\", element=\"9ae8c8c8-abb8-4d89-bd0b-25df3b9f1ffe\")>]"
      ]
     },
     "execution_count": 13,
     "metadata": {},
     "output_type": "execute_result"
    }
   ],
   "source": [
    "#Extracting all the tags having experience required \n",
    "experience_requir= driver.find_elements_by_xpath(\"//li[@class='fleft grey-text br2 placeHolderLi experience']\")\n",
    "experience_requir[0:10]"
   ]
  },
  {
   "cell_type": "code",
   "execution_count": 14,
   "id": "430e6239",
   "metadata": {
    "collapsed": true
   },
   "outputs": [
    {
     "data": {
      "text/plain": [
       "['0-1 Yrs',\n",
       " '5-10 Yrs',\n",
       " '6-11 Yrs',\n",
       " '5-8 Yrs',\n",
       " '5-8 Yrs',\n",
       " '0-3 Yrs',\n",
       " '3-7 Yrs',\n",
       " '3-8 Yrs',\n",
       " '2-6 Yrs',\n",
       " '2-7 Yrs']"
      ]
     },
     "execution_count": 14,
     "metadata": {},
     "output_type": "execute_result"
    }
   ],
   "source": [
    "for i in experience_requir:\n",
    "    experience=i.text\n",
    "    experience_required_list.append(experience)\n",
    "experience_required_list[0:10]"
   ]
  },
  {
   "cell_type": "code",
   "execution_count": 15,
   "id": "8c94b5bb",
   "metadata": {},
   "outputs": [
    {
     "name": "stdout",
     "output_type": "stream",
     "text": [
      "20 20 20 20\n"
     ]
    }
   ],
   "source": [
    "#Checking the length \n",
    "print(len(job_title),len(location_list),len(company_names),len(experience_required_list))"
   ]
  },
  {
   "cell_type": "code",
   "execution_count": 16,
   "id": "b2762b3f",
   "metadata": {},
   "outputs": [
    {
     "data": {
      "text/html": [
       "<div>\n",
       "<style scoped>\n",
       "    .dataframe tbody tr th:only-of-type {\n",
       "        vertical-align: middle;\n",
       "    }\n",
       "\n",
       "    .dataframe tbody tr th {\n",
       "        vertical-align: top;\n",
       "    }\n",
       "\n",
       "    .dataframe thead th {\n",
       "        text-align: right;\n",
       "    }\n",
       "</style>\n",
       "<table border=\"1\" class=\"dataframe\">\n",
       "  <thead>\n",
       "    <tr style=\"text-align: right;\">\n",
       "      <th></th>\n",
       "      <th>title</th>\n",
       "      <th>Location</th>\n",
       "      <th>Company</th>\n",
       "      <th>Experience requied</th>\n",
       "    </tr>\n",
       "  </thead>\n",
       "  <tbody>\n",
       "    <tr>\n",
       "      <th>0</th>\n",
       "      <td>EY GDS Data Analyst-Finland based project</td>\n",
       "      <td>Bangalore/Bengaluru</td>\n",
       "      <td>EY</td>\n",
       "      <td>0-1 Yrs</td>\n",
       "    </tr>\n",
       "    <tr>\n",
       "      <th>1</th>\n",
       "      <td>Business &amp; Data Analyst - Alteryx (London)</td>\n",
       "      <td>Bangalore/Bengaluru, Delhi / NCR, Mumbai (All ...</td>\n",
       "      <td>Imaginative Brains LLP</td>\n",
       "      <td>5-10 Yrs</td>\n",
       "    </tr>\n",
       "    <tr>\n",
       "      <th>2</th>\n",
       "      <td>Data analyst / Data scientist, AVP</td>\n",
       "      <td>Bangalore/Bengaluru</td>\n",
       "      <td>Deutsche Bank</td>\n",
       "      <td>6-11 Yrs</td>\n",
       "    </tr>\n",
       "    <tr>\n",
       "      <th>3</th>\n",
       "      <td>Data analyst / Data scientist, Associate</td>\n",
       "      <td>Bangalore/Bengaluru</td>\n",
       "      <td>Deutsche Bank</td>\n",
       "      <td>5-8 Yrs</td>\n",
       "    </tr>\n",
       "    <tr>\n",
       "      <th>4</th>\n",
       "      <td>Senior Mis Data Analyst</td>\n",
       "      <td>Bangalore/Bengaluru(Sarjapur), Delhi / NCR, Mu...</td>\n",
       "      <td>Barbeque Nation</td>\n",
       "      <td>5-8 Yrs</td>\n",
       "    </tr>\n",
       "    <tr>\n",
       "      <th>5</th>\n",
       "      <td>Junior Data Analyst/ Scientist- Fresher Position</td>\n",
       "      <td>Remote</td>\n",
       "      <td>Sejal Consulting Hub</td>\n",
       "      <td>0-3 Yrs</td>\n",
       "    </tr>\n",
       "    <tr>\n",
       "      <th>6</th>\n",
       "      <td>Senior Data Analyst</td>\n",
       "      <td>Bangalore/Bengaluru</td>\n",
       "      <td>Flipkart</td>\n",
       "      <td>3-7 Yrs</td>\n",
       "    </tr>\n",
       "    <tr>\n",
       "      <th>7</th>\n",
       "      <td>Data Analyst / Business Analyst</td>\n",
       "      <td>Bangalore/Bengaluru</td>\n",
       "      <td>METRO Cash &amp; Carry</td>\n",
       "      <td>3-8 Yrs</td>\n",
       "    </tr>\n",
       "    <tr>\n",
       "      <th>8</th>\n",
       "      <td>Genpact Hiring For Data Analyst</td>\n",
       "      <td>Bangalore/Bengaluru</td>\n",
       "      <td>Genpact</td>\n",
       "      <td>2-6 Yrs</td>\n",
       "    </tr>\n",
       "    <tr>\n",
       "      <th>9</th>\n",
       "      <td>data analyst/ data analytics / Business analys...</td>\n",
       "      <td>Gurgaon/Gurugram, Bangalore/Bengaluru, Delhi /...</td>\n",
       "      <td>Leading US MNC into Analytics</td>\n",
       "      <td>2-7 Yrs</td>\n",
       "    </tr>\n",
       "    <tr>\n",
       "      <th>10</th>\n",
       "      <td>Data Analyst</td>\n",
       "      <td>Bangalore/Bengaluru</td>\n",
       "      <td>PharmEasy</td>\n",
       "      <td>1-3 Yrs</td>\n",
       "    </tr>\n",
       "    <tr>\n",
       "      <th>11</th>\n",
       "      <td>Senior Data Analyst</td>\n",
       "      <td>Bangalore/Bengaluru</td>\n",
       "      <td>Qualitest India Private Limited</td>\n",
       "      <td>5-8 Yrs</td>\n",
       "    </tr>\n",
       "    <tr>\n",
       "      <th>12</th>\n",
       "      <td>Data Analyst /Senior Data Analyst/Lead Data An...</td>\n",
       "      <td>Bangalore/Bengaluru</td>\n",
       "      <td>Intelliest Technology</td>\n",
       "      <td>3-8 Yrs</td>\n",
       "    </tr>\n",
       "    <tr>\n",
       "      <th>13</th>\n",
       "      <td>Data Analyst ( Outsourced)</td>\n",
       "      <td>Bangalore/Bengaluru</td>\n",
       "      <td>ONEPLUS TECHNOLOGY INDIA PRIVATE LIMITED</td>\n",
       "      <td>3-5 Yrs</td>\n",
       "    </tr>\n",
       "    <tr>\n",
       "      <th>14</th>\n",
       "      <td>Master Data Management Business Analyst</td>\n",
       "      <td>Bangalore/Bengaluru</td>\n",
       "      <td>Accenture</td>\n",
       "      <td>6-8 Yrs</td>\n",
       "    </tr>\n",
       "    <tr>\n",
       "      <th>15</th>\n",
       "      <td>Data Analytics and Interpretation Business Ana...</td>\n",
       "      <td>Bangalore/Bengaluru</td>\n",
       "      <td>Accenture</td>\n",
       "      <td>6-8 Yrs</td>\n",
       "    </tr>\n",
       "    <tr>\n",
       "      <th>16</th>\n",
       "      <td>Senior Data Management Analyst</td>\n",
       "      <td>Bangalore/Bengaluru</td>\n",
       "      <td>Moody's</td>\n",
       "      <td>3-6 Yrs</td>\n",
       "    </tr>\n",
       "    <tr>\n",
       "      <th>17</th>\n",
       "      <td>Lead Data Analyst</td>\n",
       "      <td>Noida, Visakhapatnam, Hyderabad/Secunderabad, ...</td>\n",
       "      <td>SAGE INNOVATION SERVICES PRIVATE LIMITED</td>\n",
       "      <td>4-8 Yrs</td>\n",
       "    </tr>\n",
       "    <tr>\n",
       "      <th>18</th>\n",
       "      <td>Data Analyst - IIM/ISB/MDI/FMS/SP Jain</td>\n",
       "      <td>Bangalore/Bengaluru</td>\n",
       "      <td>K12 Techno Services Pvt Ltd</td>\n",
       "      <td>4-9 Yrs</td>\n",
       "    </tr>\n",
       "    <tr>\n",
       "      <th>19</th>\n",
       "      <td>Data Analyst</td>\n",
       "      <td>Bangalore/Bengaluru</td>\n",
       "      <td>Refinitiv</td>\n",
       "      <td>1-3 Yrs</td>\n",
       "    </tr>\n",
       "  </tbody>\n",
       "</table>\n",
       "</div>"
      ],
      "text/plain": [
       "                                                title  \\\n",
       "0           EY GDS Data Analyst-Finland based project   \n",
       "1          Business & Data Analyst - Alteryx (London)   \n",
       "2                  Data analyst / Data scientist, AVP   \n",
       "3            Data analyst / Data scientist, Associate   \n",
       "4                             Senior Mis Data Analyst   \n",
       "5    Junior Data Analyst/ Scientist- Fresher Position   \n",
       "6                                 Senior Data Analyst   \n",
       "7                     Data Analyst / Business Analyst   \n",
       "8                     Genpact Hiring For Data Analyst   \n",
       "9   data analyst/ data analytics / Business analys...   \n",
       "10                                       Data Analyst   \n",
       "11                                Senior Data Analyst   \n",
       "12  Data Analyst /Senior Data Analyst/Lead Data An...   \n",
       "13                         Data Analyst ( Outsourced)   \n",
       "14            Master Data Management Business Analyst   \n",
       "15  Data Analytics and Interpretation Business Ana...   \n",
       "16                     Senior Data Management Analyst   \n",
       "17                                  Lead Data Analyst   \n",
       "18             Data Analyst - IIM/ISB/MDI/FMS/SP Jain   \n",
       "19                                       Data Analyst   \n",
       "\n",
       "                                             Location  \\\n",
       "0                                 Bangalore/Bengaluru   \n",
       "1   Bangalore/Bengaluru, Delhi / NCR, Mumbai (All ...   \n",
       "2                                 Bangalore/Bengaluru   \n",
       "3                                 Bangalore/Bengaluru   \n",
       "4   Bangalore/Bengaluru(Sarjapur), Delhi / NCR, Mu...   \n",
       "5                                              Remote   \n",
       "6                                 Bangalore/Bengaluru   \n",
       "7                                 Bangalore/Bengaluru   \n",
       "8                                 Bangalore/Bengaluru   \n",
       "9   Gurgaon/Gurugram, Bangalore/Bengaluru, Delhi /...   \n",
       "10                                Bangalore/Bengaluru   \n",
       "11                                Bangalore/Bengaluru   \n",
       "12                                Bangalore/Bengaluru   \n",
       "13                                Bangalore/Bengaluru   \n",
       "14                                Bangalore/Bengaluru   \n",
       "15                                Bangalore/Bengaluru   \n",
       "16                                Bangalore/Bengaluru   \n",
       "17  Noida, Visakhapatnam, Hyderabad/Secunderabad, ...   \n",
       "18                                Bangalore/Bengaluru   \n",
       "19                                Bangalore/Bengaluru   \n",
       "\n",
       "                                     Company Experience requied  \n",
       "0                                         EY            0-1 Yrs  \n",
       "1                     Imaginative Brains LLP           5-10 Yrs  \n",
       "2                              Deutsche Bank           6-11 Yrs  \n",
       "3                              Deutsche Bank            5-8 Yrs  \n",
       "4                            Barbeque Nation            5-8 Yrs  \n",
       "5                       Sejal Consulting Hub            0-3 Yrs  \n",
       "6                                   Flipkart            3-7 Yrs  \n",
       "7                         METRO Cash & Carry            3-8 Yrs  \n",
       "8                                    Genpact            2-6 Yrs  \n",
       "9              Leading US MNC into Analytics            2-7 Yrs  \n",
       "10                                 PharmEasy            1-3 Yrs  \n",
       "11           Qualitest India Private Limited            5-8 Yrs  \n",
       "12                     Intelliest Technology            3-8 Yrs  \n",
       "13  ONEPLUS TECHNOLOGY INDIA PRIVATE LIMITED            3-5 Yrs  \n",
       "14                                 Accenture            6-8 Yrs  \n",
       "15                                 Accenture            6-8 Yrs  \n",
       "16                                   Moody's            3-6 Yrs  \n",
       "17  SAGE INNOVATION SERVICES PRIVATE LIMITED            4-8 Yrs  \n",
       "18               K12 Techno Services Pvt Ltd            4-9 Yrs  \n",
       "19                                 Refinitiv            1-3 Yrs  "
      ]
     },
     "execution_count": 16,
     "metadata": {},
     "output_type": "execute_result"
    }
   ],
   "source": [
    "#Creating the dataframe\n",
    "jobs=pd.DataFrame({'title':job_title,'Location':location_list,'Company':company_names,'Experience requied':experience_required_list})\n",
    "jobs"
   ]
  },
  {
   "cell_type": "markdown",
   "id": "d0ca8ef1",
   "metadata": {},
   "source": [
    "# Answer 2"
   ]
  },
  {
   "cell_type": "code",
   "execution_count": 17,
   "id": "ce618dae",
   "metadata": {},
   "outputs": [],
   "source": [
    "#Conecting to the web drvier\n",
    "driver = webdriver.Chrome(r\"C:\\New folder\\chromedriver.exe\")"
   ]
  },
  {
   "cell_type": "code",
   "execution_count": 18,
   "id": "534f4cdc",
   "metadata": {},
   "outputs": [],
   "source": [
    "#Opening up the required website\n",
    "driver.get(\"https://www.naukri.com/\")"
   ]
  },
  {
   "cell_type": "code",
   "execution_count": 19,
   "id": "d626280c",
   "metadata": {},
   "outputs": [],
   "source": [
    "#Entering designation \n",
    "designation = driver.find_element_by_class_name(\"suggestor-input \")\n",
    "designation.send_keys(\"Data Scientist\")\n",
    "\n",
    "#Finding location by xpath\n",
    "location = driver.find_element_by_xpath(\"/html/body/div/div[2]/div[3]/div/div/div[5]/div/div/div/input\")\n",
    "location.send_keys(\"Bangalore\")"
   ]
  },
  {
   "cell_type": "code",
   "execution_count": 20,
   "id": "687d67dd",
   "metadata": {},
   "outputs": [],
   "source": [
    "#Clicking on search button \n",
    "search_button= driver.find_element_by_xpath(\"/html/body/div/div[2]/div[3]/div/div/div[6]\")\n",
    "search_button.click()"
   ]
  },
  {
   "cell_type": "raw",
   "id": "e25fc164",
   "metadata": {},
   "source": [
    "Now lets create 3 empty list.Which is used to store 3 features which we have to extract\n",
    "\n",
    "1.job_title\n",
    "2.job_location\n",
    "3.company_name"
   ]
  },
  {
   "cell_type": "code",
   "execution_count": 21,
   "id": "66b2cfc9",
   "metadata": {},
   "outputs": [],
   "source": [
    "job_titles=[]\n",
    "locations_list=[]\n",
    "company_name=[]"
   ]
  },
  {
   "cell_type": "code",
   "execution_count": 22,
   "id": "ee0ddca4",
   "metadata": {
    "collapsed": true
   },
   "outputs": [
    {
     "data": {
      "text/plain": [
       "[<selenium.webdriver.remote.webelement.WebElement (session=\"dc77102c7d25a29d4788e63f96ac11fb\", element=\"50875252-4559-4b07-a07e-f89b273bb412\")>,\n",
       " <selenium.webdriver.remote.webelement.WebElement (session=\"dc77102c7d25a29d4788e63f96ac11fb\", element=\"979783ff-25fa-4cd6-bde6-ddbd1bac4582\")>,\n",
       " <selenium.webdriver.remote.webelement.WebElement (session=\"dc77102c7d25a29d4788e63f96ac11fb\", element=\"c820fe17-3c06-443b-b2a3-702ca77a887b\")>,\n",
       " <selenium.webdriver.remote.webelement.WebElement (session=\"dc77102c7d25a29d4788e63f96ac11fb\", element=\"c39b094c-0cf9-4ffa-8e4f-bb8c33ee3514\")>,\n",
       " <selenium.webdriver.remote.webelement.WebElement (session=\"dc77102c7d25a29d4788e63f96ac11fb\", element=\"eba87945-27e6-4733-b129-33675dfa556e\")>,\n",
       " <selenium.webdriver.remote.webelement.WebElement (session=\"dc77102c7d25a29d4788e63f96ac11fb\", element=\"b9eb9a5f-6d97-477d-a0bd-d04e19600d57\")>,\n",
       " <selenium.webdriver.remote.webelement.WebElement (session=\"dc77102c7d25a29d4788e63f96ac11fb\", element=\"3058e111-9704-4053-80c5-7d16ef39219e\")>,\n",
       " <selenium.webdriver.remote.webelement.WebElement (session=\"dc77102c7d25a29d4788e63f96ac11fb\", element=\"a45fe314-2292-4253-b789-d24b5ed7ea4e\")>,\n",
       " <selenium.webdriver.remote.webelement.WebElement (session=\"dc77102c7d25a29d4788e63f96ac11fb\", element=\"53660e92-be8a-4c5a-b7db-06c06f212eb0\")>,\n",
       " <selenium.webdriver.remote.webelement.WebElement (session=\"dc77102c7d25a29d4788e63f96ac11fb\", element=\"e99b361e-966d-4231-95b6-eb7e85f0100b\")>]"
      ]
     },
     "execution_count": 22,
     "metadata": {},
     "output_type": "execute_result"
    }
   ],
   "source": [
    "#Lets extract all the tags having the job_titles\n",
    "titles_tag= driver.find_elements_by_xpath(\"//a[@class='title fw500 ellipsis']\")\n",
    "titles_tag[0:10]"
   ]
  },
  {
   "cell_type": "code",
   "execution_count": 23,
   "id": "22276355",
   "metadata": {
    "collapsed": true
   },
   "outputs": [
    {
     "data": {
      "text/plain": [
       "['AI Technologist Vacancy',\n",
       " 'Job Opening with Wipro For Data Scientist position',\n",
       " 'Data Scientist',\n",
       " 'Data Scientist',\n",
       " 'Data Scientist - Immediate Joiners',\n",
       " 'Data Scientist- AI/ML- R&D',\n",
       " 'Urgent Hiring For AI Data Scientist',\n",
       " 'Data Scientist',\n",
       " 'Data Scientist',\n",
       " 'Data Scientist']"
      ]
     },
     "execution_count": 23,
     "metadata": {},
     "output_type": "execute_result"
    }
   ],
   "source": [
    "for i in titles_tag:\n",
    "    titles=i.text\n",
    "    job_titles.append(titles)\n",
    "job_titles[0:10]"
   ]
  },
  {
   "cell_type": "code",
   "execution_count": 24,
   "id": "e083bf46",
   "metadata": {
    "collapsed": true
   },
   "outputs": [
    {
     "data": {
      "text/plain": [
       "[<selenium.webdriver.remote.webelement.WebElement (session=\"dc77102c7d25a29d4788e63f96ac11fb\", element=\"27c90c7e-f6b4-45c3-a8e8-910c39e5e31c\")>,\n",
       " <selenium.webdriver.remote.webelement.WebElement (session=\"dc77102c7d25a29d4788e63f96ac11fb\", element=\"7f4573b6-e747-4786-93d8-9da67e1bf1a5\")>,\n",
       " <selenium.webdriver.remote.webelement.WebElement (session=\"dc77102c7d25a29d4788e63f96ac11fb\", element=\"de0187a1-b95b-4b37-9920-ad9af1466f40\")>,\n",
       " <selenium.webdriver.remote.webelement.WebElement (session=\"dc77102c7d25a29d4788e63f96ac11fb\", element=\"61ed8b44-def7-4c76-beac-e9dfd885224c\")>,\n",
       " <selenium.webdriver.remote.webelement.WebElement (session=\"dc77102c7d25a29d4788e63f96ac11fb\", element=\"60e1c9fb-398e-4fad-a901-ce5270546259\")>,\n",
       " <selenium.webdriver.remote.webelement.WebElement (session=\"dc77102c7d25a29d4788e63f96ac11fb\", element=\"a2dad2c2-0965-42dc-a96f-e12ea0f62ca5\")>,\n",
       " <selenium.webdriver.remote.webelement.WebElement (session=\"dc77102c7d25a29d4788e63f96ac11fb\", element=\"554b5881-7f3c-456f-8c93-b87fc90afae7\")>,\n",
       " <selenium.webdriver.remote.webelement.WebElement (session=\"dc77102c7d25a29d4788e63f96ac11fb\", element=\"aa810690-dfad-4ac3-b34c-915ff9d6149f\")>,\n",
       " <selenium.webdriver.remote.webelement.WebElement (session=\"dc77102c7d25a29d4788e63f96ac11fb\", element=\"08b6a462-877a-4cc5-8898-459b2a515d32\")>,\n",
       " <selenium.webdriver.remote.webelement.WebElement (session=\"dc77102c7d25a29d4788e63f96ac11fb\", element=\"ea6523af-ccdf-4ac4-b1c0-7088b626cc41\")>]"
      ]
     },
     "execution_count": 24,
     "metadata": {},
     "output_type": "execute_result"
    }
   ],
   "source": [
    "#Extracting all the tags having location\n",
    "location_tag=driver.find_elements_by_xpath(\"//li[@class='fleft grey-text br2 placeHolderLi location']\")\n",
    "location_tag[0:10]"
   ]
  },
  {
   "cell_type": "code",
   "execution_count": 25,
   "id": "cbd81ed7",
   "metadata": {
    "collapsed": true
   },
   "outputs": [
    {
     "data": {
      "text/plain": [
       "['Kolkata, Hyderabad/Secunderabad, Pune, Ahmedabad, Chennai, Bangalore/Bengaluru, Delhi / NCR, Mumbai (All Areas)',\n",
       " 'Kolkata, Hyderabad/Secunderabad, Chennai, Bangalore/Bengaluru, Delhi / NCR, Mumbai (All Areas)',\n",
       " 'Bangalore/Bengaluru',\n",
       " 'Hyderabad/Secunderabad, Bangalore/Bengaluru, Delhi / NCR',\n",
       " 'Noida, Mumbai, Pune, Bangalore/Bengaluru',\n",
       " 'Noida, Hyderabad/Secunderabad, Pune, Gurgaon/Gurugram, Chennai, Bangalore/Bengaluru, Delhi / NCR',\n",
       " 'New Delhi, Bangalore/Bengaluru, Mumbai (All Areas)\\n(WFH during Covid)',\n",
       " 'Mumbai, Bangalore/Bengaluru',\n",
       " 'Bangalore/Bengaluru, Mumbai (All Areas)',\n",
       " 'Bangalore/Bengaluru, Delhi / NCR, Mumbai (All Areas)']"
      ]
     },
     "execution_count": 25,
     "metadata": {},
     "output_type": "execute_result"
    }
   ],
   "source": [
    "for i in location_tag:\n",
    "    location=i.text\n",
    "    locations_list.append(location)\n",
    "locations_list[0:10]"
   ]
  },
  {
   "cell_type": "code",
   "execution_count": 26,
   "id": "601bd187",
   "metadata": {
    "collapsed": true
   },
   "outputs": [
    {
     "data": {
      "text/plain": [
       "[<selenium.webdriver.remote.webelement.WebElement (session=\"dc77102c7d25a29d4788e63f96ac11fb\", element=\"58e97215-d898-4cda-a3cd-b16b2d81b7fc\")>,\n",
       " <selenium.webdriver.remote.webelement.WebElement (session=\"dc77102c7d25a29d4788e63f96ac11fb\", element=\"398f328f-6a41-4468-97f9-10942c4aa064\")>,\n",
       " <selenium.webdriver.remote.webelement.WebElement (session=\"dc77102c7d25a29d4788e63f96ac11fb\", element=\"08d5f59b-2cfb-43bc-81d3-7e45463ccd32\")>,\n",
       " <selenium.webdriver.remote.webelement.WebElement (session=\"dc77102c7d25a29d4788e63f96ac11fb\", element=\"9d4c0290-1281-459b-bfca-0380ba367757\")>,\n",
       " <selenium.webdriver.remote.webelement.WebElement (session=\"dc77102c7d25a29d4788e63f96ac11fb\", element=\"160f42e7-37cc-4255-b732-96af886992a9\")>,\n",
       " <selenium.webdriver.remote.webelement.WebElement (session=\"dc77102c7d25a29d4788e63f96ac11fb\", element=\"1cf34c28-4cea-4964-b5ee-bdeba1000760\")>,\n",
       " <selenium.webdriver.remote.webelement.WebElement (session=\"dc77102c7d25a29d4788e63f96ac11fb\", element=\"4f37044e-97d3-4a20-9972-d91edbae4b68\")>,\n",
       " <selenium.webdriver.remote.webelement.WebElement (session=\"dc77102c7d25a29d4788e63f96ac11fb\", element=\"05c2b471-9a85-475b-803c-bbbb4feeec4e\")>,\n",
       " <selenium.webdriver.remote.webelement.WebElement (session=\"dc77102c7d25a29d4788e63f96ac11fb\", element=\"5bf4cee5-055d-4b15-b465-b3b8173554ed\")>,\n",
       " <selenium.webdriver.remote.webelement.WebElement (session=\"dc77102c7d25a29d4788e63f96ac11fb\", element=\"e90d0534-2ed4-4030-83cd-1bc4dd70abc1\")>]"
      ]
     },
     "execution_count": 26,
     "metadata": {},
     "output_type": "execute_result"
    }
   ],
   "source": [
    "#Extracting alll the tags having company name\n",
    "comp_tag=driver.find_elements_by_xpath(\"//a[@class='subTitle ellipsis fleft']\")\n",
    "comp_tag[0:10]"
   ]
  },
  {
   "cell_type": "code",
   "execution_count": 27,
   "id": "df5cf368",
   "metadata": {
    "collapsed": true
   },
   "outputs": [
    {
     "data": {
      "text/plain": [
       "['Wipro',\n",
       " 'Wipro',\n",
       " 'Genpact',\n",
       " 'Genpact',\n",
       " 'Bristlecone',\n",
       " 'EXL',\n",
       " 'Ashkom Media India Private Limited',\n",
       " 'UPL',\n",
       " 'UPL',\n",
       " 'Jacobs']"
      ]
     },
     "execution_count": 27,
     "metadata": {},
     "output_type": "execute_result"
    }
   ],
   "source": [
    "for i in comp_tag:\n",
    "    comp=i.text\n",
    "    company_name.append(comp)\n",
    "company_name[0:10]"
   ]
  },
  {
   "cell_type": "code",
   "execution_count": 28,
   "id": "335c5dfa",
   "metadata": {},
   "outputs": [
    {
     "name": "stdout",
     "output_type": "stream",
     "text": [
      "20 20 20\n"
     ]
    }
   ],
   "source": [
    "#Checkiing the length\n",
    "print(len(job_titles),len(locations_list),len(company_name))"
   ]
  },
  {
   "cell_type": "code",
   "execution_count": 29,
   "id": "0b1f0118",
   "metadata": {},
   "outputs": [
    {
     "data": {
      "text/html": [
       "<div>\n",
       "<style scoped>\n",
       "    .dataframe tbody tr th:only-of-type {\n",
       "        vertical-align: middle;\n",
       "    }\n",
       "\n",
       "    .dataframe tbody tr th {\n",
       "        vertical-align: top;\n",
       "    }\n",
       "\n",
       "    .dataframe thead th {\n",
       "        text-align: right;\n",
       "    }\n",
       "</style>\n",
       "<table border=\"1\" class=\"dataframe\">\n",
       "  <thead>\n",
       "    <tr style=\"text-align: right;\">\n",
       "      <th></th>\n",
       "      <th>TITLE</th>\n",
       "      <th>LOCATION</th>\n",
       "      <th>COMPANY NAME</th>\n",
       "    </tr>\n",
       "  </thead>\n",
       "  <tbody>\n",
       "    <tr>\n",
       "      <th>0</th>\n",
       "      <td>AI Technologist Vacancy</td>\n",
       "      <td>Kolkata, Hyderabad/Secunderabad, Pune, Ahmedab...</td>\n",
       "      <td>Wipro</td>\n",
       "    </tr>\n",
       "    <tr>\n",
       "      <th>1</th>\n",
       "      <td>Job Opening with Wipro For Data Scientist posi...</td>\n",
       "      <td>Kolkata, Hyderabad/Secunderabad, Chennai, Bang...</td>\n",
       "      <td>Wipro</td>\n",
       "    </tr>\n",
       "    <tr>\n",
       "      <th>2</th>\n",
       "      <td>Data Scientist</td>\n",
       "      <td>Bangalore/Bengaluru</td>\n",
       "      <td>Genpact</td>\n",
       "    </tr>\n",
       "    <tr>\n",
       "      <th>3</th>\n",
       "      <td>Data Scientist</td>\n",
       "      <td>Hyderabad/Secunderabad, Bangalore/Bengaluru, D...</td>\n",
       "      <td>Genpact</td>\n",
       "    </tr>\n",
       "    <tr>\n",
       "      <th>4</th>\n",
       "      <td>Data Scientist - Immediate Joiners</td>\n",
       "      <td>Noida, Mumbai, Pune, Bangalore/Bengaluru</td>\n",
       "      <td>Bristlecone</td>\n",
       "    </tr>\n",
       "    <tr>\n",
       "      <th>5</th>\n",
       "      <td>Data Scientist- AI/ML- R&amp;D</td>\n",
       "      <td>Noida, Hyderabad/Secunderabad, Pune, Gurgaon/G...</td>\n",
       "      <td>EXL</td>\n",
       "    </tr>\n",
       "    <tr>\n",
       "      <th>6</th>\n",
       "      <td>Urgent Hiring For AI Data Scientist</td>\n",
       "      <td>New Delhi, Bangalore/Bengaluru, Mumbai (All Ar...</td>\n",
       "      <td>Ashkom Media India Private Limited</td>\n",
       "    </tr>\n",
       "    <tr>\n",
       "      <th>7</th>\n",
       "      <td>Data Scientist</td>\n",
       "      <td>Mumbai, Bangalore/Bengaluru</td>\n",
       "      <td>UPL</td>\n",
       "    </tr>\n",
       "    <tr>\n",
       "      <th>8</th>\n",
       "      <td>Data Scientist</td>\n",
       "      <td>Bangalore/Bengaluru, Mumbai (All Areas)</td>\n",
       "      <td>UPL</td>\n",
       "    </tr>\n",
       "    <tr>\n",
       "      <th>9</th>\n",
       "      <td>Data Scientist</td>\n",
       "      <td>Bangalore/Bengaluru, Delhi / NCR, Mumbai (All ...</td>\n",
       "      <td>Jacobs</td>\n",
       "    </tr>\n",
       "    <tr>\n",
       "      <th>10</th>\n",
       "      <td>Data Science Expert - Quality &amp; Test Engineering</td>\n",
       "      <td>Bangalore/Bengaluru</td>\n",
       "      <td>SAP</td>\n",
       "    </tr>\n",
       "    <tr>\n",
       "      <th>11</th>\n",
       "      <td>Applied Data Scientist / ML Senior Engineer (P...</td>\n",
       "      <td>Bangalore/Bengaluru</td>\n",
       "      <td>SAP</td>\n",
       "    </tr>\n",
       "    <tr>\n",
       "      <th>12</th>\n",
       "      <td>Research Engineer: Deep Learning &amp; Collective ...</td>\n",
       "      <td>Bangalore/Bengaluru</td>\n",
       "      <td>Siemens</td>\n",
       "    </tr>\n",
       "    <tr>\n",
       "      <th>13</th>\n",
       "      <td>Team Lead/Consultant-Data Science</td>\n",
       "      <td>Bangalore/Bengaluru</td>\n",
       "      <td>Accenture</td>\n",
       "    </tr>\n",
       "    <tr>\n",
       "      <th>14</th>\n",
       "      <td>Team Lead/Consultant-Data Science</td>\n",
       "      <td>Bangalore/Bengaluru</td>\n",
       "      <td>Accenture</td>\n",
       "    </tr>\n",
       "    <tr>\n",
       "      <th>15</th>\n",
       "      <td>Data Science Associate Manager</td>\n",
       "      <td>Bangalore/Bengaluru</td>\n",
       "      <td>Accenture</td>\n",
       "    </tr>\n",
       "    <tr>\n",
       "      <th>16</th>\n",
       "      <td>Research Scientist</td>\n",
       "      <td>Bangalore/Bengaluru</td>\n",
       "      <td>IBM</td>\n",
       "    </tr>\n",
       "    <tr>\n",
       "      <th>17</th>\n",
       "      <td>Data Science - Lead Data Scientist</td>\n",
       "      <td>Noida, Bangalore/Bengaluru</td>\n",
       "      <td>Paytm</td>\n",
       "    </tr>\n",
       "    <tr>\n",
       "      <th>18</th>\n",
       "      <td>Data Scientist</td>\n",
       "      <td>Bengaluru/Bangalore</td>\n",
       "      <td>IBM</td>\n",
       "    </tr>\n",
       "    <tr>\n",
       "      <th>19</th>\n",
       "      <td>Data Scientist</td>\n",
       "      <td>Bengaluru/Bangalore</td>\n",
       "      <td>IBM</td>\n",
       "    </tr>\n",
       "  </tbody>\n",
       "</table>\n",
       "</div>"
      ],
      "text/plain": [
       "                                                TITLE  \\\n",
       "0                             AI Technologist Vacancy   \n",
       "1   Job Opening with Wipro For Data Scientist posi...   \n",
       "2                                      Data Scientist   \n",
       "3                                      Data Scientist   \n",
       "4                  Data Scientist - Immediate Joiners   \n",
       "5                          Data Scientist- AI/ML- R&D   \n",
       "6                 Urgent Hiring For AI Data Scientist   \n",
       "7                                      Data Scientist   \n",
       "8                                      Data Scientist   \n",
       "9                                      Data Scientist   \n",
       "10   Data Science Expert - Quality & Test Engineering   \n",
       "11  Applied Data Scientist / ML Senior Engineer (P...   \n",
       "12  Research Engineer: Deep Learning & Collective ...   \n",
       "13                  Team Lead/Consultant-Data Science   \n",
       "14                  Team Lead/Consultant-Data Science   \n",
       "15                     Data Science Associate Manager   \n",
       "16                                 Research Scientist   \n",
       "17                 Data Science - Lead Data Scientist   \n",
       "18                                     Data Scientist   \n",
       "19                                     Data Scientist   \n",
       "\n",
       "                                             LOCATION  \\\n",
       "0   Kolkata, Hyderabad/Secunderabad, Pune, Ahmedab...   \n",
       "1   Kolkata, Hyderabad/Secunderabad, Chennai, Bang...   \n",
       "2                                 Bangalore/Bengaluru   \n",
       "3   Hyderabad/Secunderabad, Bangalore/Bengaluru, D...   \n",
       "4            Noida, Mumbai, Pune, Bangalore/Bengaluru   \n",
       "5   Noida, Hyderabad/Secunderabad, Pune, Gurgaon/G...   \n",
       "6   New Delhi, Bangalore/Bengaluru, Mumbai (All Ar...   \n",
       "7                         Mumbai, Bangalore/Bengaluru   \n",
       "8             Bangalore/Bengaluru, Mumbai (All Areas)   \n",
       "9   Bangalore/Bengaluru, Delhi / NCR, Mumbai (All ...   \n",
       "10                                Bangalore/Bengaluru   \n",
       "11                                Bangalore/Bengaluru   \n",
       "12                                Bangalore/Bengaluru   \n",
       "13                                Bangalore/Bengaluru   \n",
       "14                                Bangalore/Bengaluru   \n",
       "15                                Bangalore/Bengaluru   \n",
       "16                                Bangalore/Bengaluru   \n",
       "17                         Noida, Bangalore/Bengaluru   \n",
       "18                                Bengaluru/Bangalore   \n",
       "19                                Bengaluru/Bangalore   \n",
       "\n",
       "                          COMPANY NAME  \n",
       "0                                Wipro  \n",
       "1                                Wipro  \n",
       "2                              Genpact  \n",
       "3                              Genpact  \n",
       "4                          Bristlecone  \n",
       "5                                  EXL  \n",
       "6   Ashkom Media India Private Limited  \n",
       "7                                  UPL  \n",
       "8                                  UPL  \n",
       "9                               Jacobs  \n",
       "10                                 SAP  \n",
       "11                                 SAP  \n",
       "12                             Siemens  \n",
       "13                           Accenture  \n",
       "14                           Accenture  \n",
       "15                           Accenture  \n",
       "16                                 IBM  \n",
       "17                               Paytm  \n",
       "18                                 IBM  \n",
       "19                                 IBM  "
      ]
     },
     "execution_count": 29,
     "metadata": {},
     "output_type": "execute_result"
    }
   ],
   "source": [
    "Job=pd.DataFrame({'TITLE':job_titles,'LOCATION':locations_list,'COMPANY NAME':company_name})\n",
    "Job"
   ]
  },
  {
   "cell_type": "code",
   "execution_count": null,
   "id": "8f9450e0",
   "metadata": {},
   "outputs": [],
   "source": []
  },
  {
   "cell_type": "markdown",
   "id": "c4ce7455",
   "metadata": {},
   "source": [
    "# Answer 3"
   ]
  },
  {
   "cell_type": "code",
   "execution_count": 30,
   "id": "b33f0772",
   "metadata": {},
   "outputs": [],
   "source": [
    "#Conecting to the web drvier\n",
    "driver = webdriver.Chrome(r\"C:\\New folder\\chromedriver.exe\")\n",
    "\n",
    "#Opening up the required website\n",
    "driver.get(\"https://www.naukri.com/\")"
   ]
  },
  {
   "cell_type": "code",
   "execution_count": 31,
   "id": "d0b325ae",
   "metadata": {},
   "outputs": [],
   "source": [
    "#Entering designation \n",
    "designation = driver.find_element_by_class_name(\"suggestor-input \")\n",
    "designation.send_keys(\"Data Scientist\")\n",
    "#Clicking on search button \n",
    "search_button= driver.find_element_by_xpath(\"/html/body/div/div[2]/div[3]/div/div/div[6]\")\n",
    "search_button.click()"
   ]
  },
  {
   "cell_type": "code",
   "execution_count": 32,
   "id": "d346f5e8",
   "metadata": {},
   "outputs": [],
   "source": [
    "#Applying location and salary filter\n",
    "apply_filter=driver.find_element_by_xpath(\"//span[@class='fw500 pl-8']\")\n",
    "apply_filter.click()"
   ]
  },
  {
   "cell_type": "markdown",
   "id": "704f7ced",
   "metadata": {},
   "source": [
    "# Answer 4"
   ]
  },
  {
   "cell_type": "code",
   "execution_count": 2,
   "id": "72dd740e",
   "metadata": {},
   "outputs": [],
   "source": [
    "driver=webdriver.Chrome(r\"C:\\New folder\\chromedriver.exe\")\n",
    "\n",
    "driver.get(\"https://www.flipkart.com/\")"
   ]
  },
  {
   "cell_type": "code",
   "execution_count": 3,
   "id": "f9fade9c",
   "metadata": {},
   "outputs": [],
   "source": [
    "products=driver.find_element_by_class_name(\"_3704LK\")\n",
    "products.send_keys(\"sunglasses\")\n",
    "search_button=driver.find_element_by_xpath(\"/html/body/div[1]/div/div[1]/div[1]/div[2]/div[2]/form/div/button\")\n",
    "search_button.click()"
   ]
  },
  {
   "cell_type": "code",
   "execution_count": 4,
   "id": "e9a16a56",
   "metadata": {},
   "outputs": [],
   "source": [
    "#Creating list for the aributes\n",
    "brands_name=[]\n",
    "product_description=[]\n",
    "product_price_list=[]"
   ]
  },
  {
   "cell_type": "code",
   "execution_count": 5,
   "id": "c544542f",
   "metadata": {
    "collapsed": true
   },
   "outputs": [
    {
     "data": {
      "text/plain": [
       "['Mi',\n",
       " 'Mi',\n",
       " 'Elligator',\n",
       " 'Fastrack',\n",
       " 'Fastrack',\n",
       " 'PIRASO',\n",
       " 'ROZZETTA CRAFT',\n",
       " 'New Specs',\n",
       " 'PIRASO',\n",
       " 'Mi',\n",
       " 'VINCENT CHASE',\n",
       " 'Fastrack',\n",
       " 'SUNBEE',\n",
       " 'Fastrack',\n",
       " 'Fastrack',\n",
       " 'United Colors of Benetton',\n",
       " 'VINCENT CHASE',\n",
       " 'United Colors of Benetton',\n",
       " 'Fastrack',\n",
       " 'Elligator',\n",
       " 'GANSTA',\n",
       " 'SUNBEE',\n",
       " 'AISLIN',\n",
       " 'ROZZETTA CRAFT',\n",
       " 'kingsunglasses',\n",
       " 'ROZZETTA CRAFT',\n",
       " 'Ray-Ban',\n",
       " 'Fastrack',\n",
       " 'VINCENT CHASE',\n",
       " 'Urbanic',\n",
       " 'ROZZETTA CRAFT',\n",
       " 'PHENOMENAL',\n",
       " 'Lee Topper',\n",
       " 'ROYAL SON',\n",
       " 'Fastrack',\n",
       " 'PIRASO',\n",
       " 'ROYAL SON',\n",
       " 'VINCENT CHASE',\n",
       " 'Lee Topper',\n",
       " 'United Colors of Benetton',\n",
       " 'Lee Topper',\n",
       " 'ROYAL SON',\n",
       " 'SHAAH COLLECTIONS',\n",
       " 'Ray-Ban',\n",
       " 'Fastrack',\n",
       " 'PIRASO',\n",
       " 'Fastrack',\n",
       " 'ROZZETTA CRAFT',\n",
       " 'kingsunglasses',\n",
       " 'HRX by Hrithik Roshan',\n",
       " 'PHENOMENAL',\n",
       " 'Ray-Ban',\n",
       " 'Urbanic',\n",
       " 'Fastrack',\n",
       " 'kingsunglasses',\n",
       " 'ROZZETTA CRAFT',\n",
       " 'CRYSTAL CART',\n",
       " 'AISLIN',\n",
       " 'SUNBEE',\n",
       " 'ROYAL SON',\n",
       " 'kingscape',\n",
       " 'Fastrack',\n",
       " 'AISLIN',\n",
       " 'Ray-Ban',\n",
       " 'kingsunglasses',\n",
       " 'SRPM',\n",
       " 'Fastrack',\n",
       " 'Ray-Ban',\n",
       " 'PIRASO',\n",
       " 'ROZZETTA CRAFT',\n",
       " 'Fastrack',\n",
       " 'GANSTA',\n",
       " 'ROZZETTA CRAFT',\n",
       " 'GHAWK',\n",
       " 'PIRASO',\n",
       " 'ROZZETTA CRAFT',\n",
       " 'ROYAL SON',\n",
       " 'Rich Club',\n",
       " 'AISLIN',\n",
       " 'ROZZETTA CRAFT',\n",
       " 'GANSTA',\n",
       " 'GANSTA',\n",
       " 'VINCENT CHASE',\n",
       " 'Ray-Ban',\n",
       " 'AISLIN',\n",
       " 'AISLIN',\n",
       " 'Roadster',\n",
       " 'Ray-Ban',\n",
       " 'Rich Club',\n",
       " 'New Specs',\n",
       " 'Singco',\n",
       " 'Ray-Ban',\n",
       " 'VINCENT CHASE',\n",
       " 'LIZA ANGEL',\n",
       " 'SHAAH COLLECTIONS',\n",
       " 'Ray-Ban',\n",
       " 'AISLIN',\n",
       " 'kingsunglasses',\n",
       " 'AISLIN',\n",
       " 'Ray-Ban']"
      ]
     },
     "execution_count": 5,
     "metadata": {},
     "output_type": "execute_result"
    }
   ],
   "source": [
    "#Extracting all the brand names\n",
    "for  i in range(0,3):\n",
    "    brand_tag=driver.find_elements_by_xpath(\"//div[@class='_2WkVRV']\")\n",
    "    for i in brand_tag:\n",
    "        brand=i.text\n",
    "        brands_name.append(brand)\n",
    "    next_button=driver.find_element_by_xpath(\"/html/body/div[1]/div/div[3]/div[1]/div[2]/div[12]/div/div/nav/a[11]\")\n",
    "    next_button.click()\n",
    "    time.sleep(3)\n",
    "brands_name[0:100]"
   ]
  },
  {
   "cell_type": "code",
   "execution_count": 6,
   "id": "2a69b3be",
   "metadata": {
    "collapsed": true
   },
   "outputs": [
    {
     "data": {
      "text/plain": [
       "['UV Protection Wayfarer, Sports, Shield, Rectangular, Re...',\n",
       " 'UV Protection Round Sunglasses (54)',\n",
       " 'Gradient, UV Protection Retro Square Sunglasses (58)',\n",
       " 'Night Vision, Riding Glasses Wayfarer Sunglasses (53)',\n",
       " 'by Lenskart Polarized, UV Protection Cat-eye Sunglasses...',\n",
       " 'UV Protection, Night Vision, Riding Glasses Aviator Sun...',\n",
       " 'UV Protection Oval, Aviator Sunglasses (58)',\n",
       " 'UV Protection Aviator Sunglasses (62)',\n",
       " 'UV Protection Wayfarer Sunglasses (53)',\n",
       " 'UV Protection Cat-eye Sunglasses (55)',\n",
       " 'UV Protection Oval, Aviator Sunglasses (60)',\n",
       " 'UV Protection, Gradient Oval Sunglasses (58)',\n",
       " 'Polarized Retro Square Sunglasses (61)',\n",
       " 'UV Protection, Night Vision Wayfarer Sunglasses (Free S...',\n",
       " 'UV Protection Oval, Aviator Sunglasses (57)',\n",
       " 'Mirrored, UV Protection Round Sunglasses (Free Size)',\n",
       " 'Mirrored, UV Protection Wayfarer Sunglasses (Free Size)',\n",
       " 'UV Protection, Mirrored, Gradient Aviator Sunglasses (5...',\n",
       " 'UV Protection Oval, Aviator Sunglasses (60)',\n",
       " 'by Lenskart UV Protection Wayfarer Sunglasses (51)',\n",
       " 'by Lenskart UV Protection, Polarized Aviator Sunglasses...',\n",
       " 'UV Protection, Gradient, Night Vision, Mirrored Aviator...',\n",
       " 'UV Protection Rectangular Sunglasses (Free Size)',\n",
       " 'Gradient, UV Protection Retro Square, Wayfarer Sunglass...',\n",
       " 'UV Protection Round Sunglasses (Free Size)',\n",
       " 'Polarized, UV Protection Wayfarer Sunglasses (57)',\n",
       " 'UV Protection, Mirrored Aviator Sunglasses (57)',\n",
       " 'Polarized, UV Protection Aviator Sunglasses (58)',\n",
       " 'UV Protection Round Sunglasses (Free Size)',\n",
       " 'Polarized Aviator Sunglasses (58)',\n",
       " 'UV Protection Retro Square Sunglasses (60)',\n",
       " 'UV Protection, Gradient Butterfly, Shield Sunglasses (6...',\n",
       " 'UV Protection Rectangular, Over-sized Sunglasses (Free ...',\n",
       " 'UV Protection Round Sunglasses (52)',\n",
       " 'UV Protection, Gradient Butterfly, Retro Square Sunglas...',\n",
       " 'UV Protection, Gradient Round Sunglasses (58)',\n",
       " 'UV Protection, Mirrored Clubmaster Sunglasses (53)',\n",
       " 'by Lenskart Polarized, UV Protection Retro Square Sungl...',\n",
       " 'UV Protection Retro Square Sunglasses (Free Size)',\n",
       " 'Polarized, UV Protection Sports Sunglasses (68)',\n",
       " 'UV Protection Butterfly Sunglasses (64)',\n",
       " 'Toughened Glass Lens, UV Protection Aviator, Wrap-aroun...',\n",
       " 'Toughened Glass Lens, UV Protection Wayfarer, Aviator S...',\n",
       " 'UV Protection, Gradient Wayfarer, Retro Square Sunglass...',\n",
       " 'UV Protection, Gradient, Riding Glasses Wayfarer Sungla...',\n",
       " 'UV Protection, Riding Glasses Wayfarer Sunglasses (56)',\n",
       " 'Polarized, UV Protection Round Sunglasses (52)',\n",
       " 'UV Protection, Gradient Cat-eye Sunglasses (58)',\n",
       " 'UV Protection, Riding Glasses, Night Vision Wayfarer Su...',\n",
       " 'UV Protection Round Sunglasses (58)',\n",
       " 'UV Protection Sports Sunglasses (Free Size)',\n",
       " 'UV Protection, Gradient Round Sunglasses (58)',\n",
       " 'UV Protection, Gradient Butterfly, Over-sized Sunglasse...',\n",
       " 'UV Protection, Polarized Rectangular Sunglasses (Free S...',\n",
       " 'UV Protection, Gradient Over-sized Sunglasses (56)',\n",
       " 'UV Protection, Gradient Over-sized Sunglasses (62)',\n",
       " 'Polarized Wayfarer Sunglasses (Free Size)',\n",
       " 'UV Protection Rectangular Sunglasses (Free Size)',\n",
       " 'UV Protection, Gradient Butterfly, Retro Square Sunglas...',\n",
       " 'Polarized, UV Protection Aviator Sunglasses (53)',\n",
       " 'Riding Glasses, UV Protection, Mirrored Sports Sunglass...',\n",
       " 'UV Protection, Mirrored Aviator Sunglasses (57)',\n",
       " 'UV Protection Rectangular Sunglasses (Free Size)',\n",
       " 'by Lenskart Polarized, UV Protection Round Sunglasses (...',\n",
       " 'UV Protection, Gradient Cat-eye, Round Sunglasses (62)',\n",
       " 'UV Protection Oval Sunglasses (52)',\n",
       " 'UV Protection Cat-eye Sunglasses (51)',\n",
       " 'Polarized, UV Protection Wrap-around Sunglasses (62)',\n",
       " 'UV Protection Aviator Sunglasses (Free Size)',\n",
       " 'SLIVER STEALTH Rectangular Sunglass',\n",
       " 'TWOFACE Rectangular Sunglass',\n",
       " 'UV Protection Clubmaster Sunglasses (47)',\n",
       " 'UV Protection, Gradient, Night Vision, Mirrored Aviator...',\n",
       " 'UV Protection, Riding Glasses Round Sunglasses (50)',\n",
       " 'UV Protection, Mirrored Aviator Sunglasses (50)',\n",
       " 'UV Protection, Mirrored, Night Vision, Riding Glasses S...',\n",
       " 'Polarized Aviator Sunglasses (59)',\n",
       " 'UV Protection Wayfarer Sunglasses (55)',\n",
       " 'Polarized, Riding Glasses Sports, Wrap-around Sunglasse...',\n",
       " 'Polarized, UV Protection, Mirrored Wayfarer, Retro Squa...',\n",
       " 'UV Protection Wayfarer Sunglasses (50)',\n",
       " 'Polarized, UV Protection Retro Square Sunglasses (54)',\n",
       " 'UV Protection, Gradient Cat-eye, Wayfarer Sunglasses (6...',\n",
       " 'UV Protection, Mirrored Shield, Wayfarer Sunglasses (61...',\n",
       " 'UV Protection Wayfarer Sunglasses (46)',\n",
       " 'UV Protection Aviator Sunglasses (55)',\n",
       " 'UV Protection Wayfarer, Sports, Shield, Rectangular, Re...',\n",
       " 'Mirrored, UV Protection Round Sunglasses (Free Size)',\n",
       " 'Mirrored Aviator Sunglasses (57)',\n",
       " 'Others Round Sunglasses (59)',\n",
       " 'UV Protection, Others, UV Protection, Polarized Wayfare...',\n",
       " 'UV Protection Wayfarer Sunglasses (55)',\n",
       " 'UV Protection Oval, Aviator Sunglasses (58)',\n",
       " 'Polarized Aviator Sunglasses (57)',\n",
       " 'UV Protection Retro Square Sunglasses (Free Size)',\n",
       " 'UV Protection Cat-eye Sunglasses (57)',\n",
       " 'UV Protection, Gradient Retro Square, Over-sized Sungla...',\n",
       " 'Polarized, UV Protection Retro Square Sunglasses (55)',\n",
       " 'UV Protection Wrap-around Sunglasses (68)',\n",
       " 'UV Protection, Gradient Butterfly Sunglasses (55)']"
      ]
     },
     "execution_count": 6,
     "metadata": {},
     "output_type": "execute_result"
    }
   ],
   "source": [
    "for  i in range(0,3):\n",
    "    product_tag=driver.find_elements_by_xpath(\"//a[@class='IRpwTa']\")\n",
    "    for i in product_tag:\n",
    "        product=i.text\n",
    "        product_description.append(product)\n",
    "    next_button=driver.find_element_by_xpath(\"/html/body/div[1]/div/div[3]/div[1]/div[2]/div[12]/div/div/nav/a[11]\")\n",
    "    next_button.click()\n",
    "    time.sleep(3)\n",
    "product_description[0:100]"
   ]
  },
  {
   "cell_type": "code",
   "execution_count": 7,
   "id": "88d8beea",
   "metadata": {
    "collapsed": true
   },
   "outputs": [
    {
     "data": {
      "text/plain": [
       "['₹149',\n",
       " '₹776',\n",
       " '₹8,429',\n",
       " '₹3,325',\n",
       " '₹525',\n",
       " '₹372',\n",
       " '₹2,256',\n",
       " '₹242',\n",
       " '₹217',\n",
       " '₹449',\n",
       " '₹149',\n",
       " '₹212',\n",
       " '₹115',\n",
       " '₹194',\n",
       " '₹6,469',\n",
       " '₹774',\n",
       " '₹1,419',\n",
       " '₹223',\n",
       " '₹501',\n",
       " '₹525',\n",
       " '₹519',\n",
       " '₹949',\n",
       " '₹559',\n",
       " '₹559',\n",
       " '₹199',\n",
       " '₹164',\n",
       " '₹5,239',\n",
       " '₹279',\n",
       " '₹399',\n",
       " '₹1,025',\n",
       " '₹739',\n",
       " '₹279',\n",
       " '₹290',\n",
       " '₹366',\n",
       " '₹108',\n",
       " '₹501',\n",
       " '₹219',\n",
       " '₹310',\n",
       " '₹2,319',\n",
       " '₹314',\n",
       " '₹149',\n",
       " '₹776',\n",
       " '₹8,429',\n",
       " '₹3,325',\n",
       " '₹525',\n",
       " '₹372',\n",
       " '₹2,256',\n",
       " '₹242',\n",
       " '₹217',\n",
       " '₹449',\n",
       " '₹149',\n",
       " '₹212',\n",
       " '₹115',\n",
       " '₹194',\n",
       " '₹6,469',\n",
       " '₹774',\n",
       " '₹1,419',\n",
       " '₹223',\n",
       " '₹501',\n",
       " '₹525',\n",
       " '₹519',\n",
       " '₹949',\n",
       " '₹559',\n",
       " '₹559',\n",
       " '₹199',\n",
       " '₹164',\n",
       " '₹5,239',\n",
       " '₹279',\n",
       " '₹399',\n",
       " '₹1,025',\n",
       " '₹739',\n",
       " '₹279',\n",
       " '₹290',\n",
       " '₹366',\n",
       " '₹108',\n",
       " '₹501',\n",
       " '₹219',\n",
       " '₹310',\n",
       " '₹2,319',\n",
       " '₹314',\n",
       " '₹149',\n",
       " '₹776',\n",
       " '₹8,429',\n",
       " '₹3,325',\n",
       " '₹525',\n",
       " '₹372',\n",
       " '₹2,256',\n",
       " '₹242',\n",
       " '₹217',\n",
       " '₹449',\n",
       " '₹149',\n",
       " '₹212',\n",
       " '₹115',\n",
       " '₹194',\n",
       " '₹6,469',\n",
       " '₹774',\n",
       " '₹1,419',\n",
       " '₹223',\n",
       " '₹501',\n",
       " '₹525']"
      ]
     },
     "execution_count": 7,
     "metadata": {},
     "output_type": "execute_result"
    }
   ],
   "source": [
    "for  i in range(0,3):\n",
    "    price_tag=driver.find_elements_by_xpath(\"//div[@class='_30jeq3']\")\n",
    "    for i in price_tag:\n",
    "        price=i.text\n",
    "        product_price_list.append(price)\n",
    "    next_button=driver.find_element_by_xpath(\"/html/body/div[1]/div/div[3]/div[1]/div[2]/div[12]/div/div/nav/a[11]\")\n",
    "    next_button.click()\n",
    "    time.sleep(3)\n",
    "product_price_list[0:100]"
   ]
  },
  {
   "cell_type": "code",
   "execution_count": 8,
   "id": "0f09721e",
   "metadata": {},
   "outputs": [
    {
     "name": "stdout",
     "output_type": "stream",
     "text": [
      "120 115 120\n"
     ]
    }
   ],
   "source": [
    "print(len(brands_name),len(product_description),len(product_price_list))"
   ]
  },
  {
   "cell_type": "code",
   "execution_count": 11,
   "id": "69faa7e5",
   "metadata": {},
   "outputs": [],
   "source": [
    "B=brands_name[0:100]\n",
    "p=product_description[0:100]\n",
    "pp=product_price_list[0:100]"
   ]
  },
  {
   "cell_type": "code",
   "execution_count": 12,
   "id": "c1f294d1",
   "metadata": {},
   "outputs": [
    {
     "name": "stdout",
     "output_type": "stream",
     "text": [
      "100 100 100\n"
     ]
    }
   ],
   "source": [
    "print(len(B),len(p),len(pp))"
   ]
  },
  {
   "cell_type": "code",
   "execution_count": 13,
   "id": "7ad2a503",
   "metadata": {},
   "outputs": [],
   "source": [
    "sunglasses=pd.DataFrame({'BRAND':B,'Product Description':p,'PRICE':pp})"
   ]
  },
  {
   "cell_type": "code",
   "execution_count": 14,
   "id": "45e15ae4",
   "metadata": {},
   "outputs": [
    {
     "data": {
      "text/html": [
       "<div>\n",
       "<style scoped>\n",
       "    .dataframe tbody tr th:only-of-type {\n",
       "        vertical-align: middle;\n",
       "    }\n",
       "\n",
       "    .dataframe tbody tr th {\n",
       "        vertical-align: top;\n",
       "    }\n",
       "\n",
       "    .dataframe thead th {\n",
       "        text-align: right;\n",
       "    }\n",
       "</style>\n",
       "<table border=\"1\" class=\"dataframe\">\n",
       "  <thead>\n",
       "    <tr style=\"text-align: right;\">\n",
       "      <th></th>\n",
       "      <th>BRAND</th>\n",
       "      <th>Product Description</th>\n",
       "      <th>PRICE</th>\n",
       "    </tr>\n",
       "  </thead>\n",
       "  <tbody>\n",
       "    <tr>\n",
       "      <th>0</th>\n",
       "      <td>Mi</td>\n",
       "      <td>UV Protection Wayfarer, Sports, Shield, Rectan...</td>\n",
       "      <td>₹149</td>\n",
       "    </tr>\n",
       "    <tr>\n",
       "      <th>1</th>\n",
       "      <td>Mi</td>\n",
       "      <td>UV Protection Round Sunglasses (54)</td>\n",
       "      <td>₹776</td>\n",
       "    </tr>\n",
       "    <tr>\n",
       "      <th>2</th>\n",
       "      <td>Elligator</td>\n",
       "      <td>Gradient, UV Protection Retro Square Sunglasse...</td>\n",
       "      <td>₹8,429</td>\n",
       "    </tr>\n",
       "    <tr>\n",
       "      <th>3</th>\n",
       "      <td>Fastrack</td>\n",
       "      <td>Night Vision, Riding Glasses Wayfarer Sunglass...</td>\n",
       "      <td>₹3,325</td>\n",
       "    </tr>\n",
       "    <tr>\n",
       "      <th>4</th>\n",
       "      <td>Fastrack</td>\n",
       "      <td>by Lenskart Polarized, UV Protection Cat-eye S...</td>\n",
       "      <td>₹525</td>\n",
       "    </tr>\n",
       "    <tr>\n",
       "      <th>...</th>\n",
       "      <td>...</td>\n",
       "      <td>...</td>\n",
       "      <td>...</td>\n",
       "    </tr>\n",
       "    <tr>\n",
       "      <th>95</th>\n",
       "      <td>Ray-Ban</td>\n",
       "      <td>UV Protection Cat-eye Sunglasses (57)</td>\n",
       "      <td>₹774</td>\n",
       "    </tr>\n",
       "    <tr>\n",
       "      <th>96</th>\n",
       "      <td>AISLIN</td>\n",
       "      <td>UV Protection, Gradient Retro Square, Over-siz...</td>\n",
       "      <td>₹1,419</td>\n",
       "    </tr>\n",
       "    <tr>\n",
       "      <th>97</th>\n",
       "      <td>kingsunglasses</td>\n",
       "      <td>Polarized, UV Protection Retro Square Sunglass...</td>\n",
       "      <td>₹223</td>\n",
       "    </tr>\n",
       "    <tr>\n",
       "      <th>98</th>\n",
       "      <td>AISLIN</td>\n",
       "      <td>UV Protection Wrap-around Sunglasses (68)</td>\n",
       "      <td>₹501</td>\n",
       "    </tr>\n",
       "    <tr>\n",
       "      <th>99</th>\n",
       "      <td>Ray-Ban</td>\n",
       "      <td>UV Protection, Gradient Butterfly Sunglasses (55)</td>\n",
       "      <td>₹525</td>\n",
       "    </tr>\n",
       "  </tbody>\n",
       "</table>\n",
       "<p>100 rows × 3 columns</p>\n",
       "</div>"
      ],
      "text/plain": [
       "             BRAND                                Product Description   PRICE\n",
       "0               Mi  UV Protection Wayfarer, Sports, Shield, Rectan...    ₹149\n",
       "1               Mi                UV Protection Round Sunglasses (54)    ₹776\n",
       "2        Elligator  Gradient, UV Protection Retro Square Sunglasse...  ₹8,429\n",
       "3         Fastrack  Night Vision, Riding Glasses Wayfarer Sunglass...  ₹3,325\n",
       "4         Fastrack  by Lenskart Polarized, UV Protection Cat-eye S...    ₹525\n",
       "..             ...                                                ...     ...\n",
       "95         Ray-Ban              UV Protection Cat-eye Sunglasses (57)    ₹774\n",
       "96          AISLIN  UV Protection, Gradient Retro Square, Over-siz...  ₹1,419\n",
       "97  kingsunglasses  Polarized, UV Protection Retro Square Sunglass...    ₹223\n",
       "98          AISLIN          UV Protection Wrap-around Sunglasses (68)    ₹501\n",
       "99         Ray-Ban  UV Protection, Gradient Butterfly Sunglasses (55)    ₹525\n",
       "\n",
       "[100 rows x 3 columns]"
      ]
     },
     "execution_count": 14,
     "metadata": {},
     "output_type": "execute_result"
    }
   ],
   "source": [
    "sunglasses"
   ]
  },
  {
   "cell_type": "markdown",
   "id": "16e1f126",
   "metadata": {},
   "source": [
    "# Answer 5"
   ]
  },
  {
   "cell_type": "code",
   "execution_count": 21,
   "id": "bc644012",
   "metadata": {},
   "outputs": [],
   "source": [
    "driver=webdriver.Chrome(r\"C:\\New folder\\chromedriver.exe\")\n",
    "\n",
    "driver.get(\"https://www.flipkart.com/\")"
   ]
  },
  {
   "cell_type": "code",
   "execution_count": 22,
   "id": "0e681e01",
   "metadata": {},
   "outputs": [],
   "source": [
    "products=driver.find_element_by_class_name(\"_3704LK\")\n",
    "products.send_keys(\"iphone 11\")\n",
    "search_button=driver.find_element_by_xpath(\"/html/body/div[1]/div/div[1]/div[1]/div[2]/div[2]/form/div/button\")\n",
    "search_button.click()"
   ]
  },
  {
   "cell_type": "code",
   "execution_count": 23,
   "id": "defa70af",
   "metadata": {},
   "outputs": [],
   "source": [
    "rating_list=[]\n",
    "review_list=[]\n",
    "full_review=[]"
   ]
  },
  {
   "cell_type": "code",
   "execution_count": 28,
   "id": "3c798624",
   "metadata": {},
   "outputs": [
    {
     "data": {
      "text/plain": [
       "[]"
      ]
     },
     "execution_count": 28,
     "metadata": {},
     "output_type": "execute_result"
    }
   ],
   "source": [
    "for i in range(0,10):\n",
    "    rating_tag=driver.find_elements_by_xpath(\"//div[@class='_3LWZlK _1BLPMq']\")\n",
    "    for i in rating_tag:\n",
    "        rating=i.text\n",
    "        rating_list.append(rating)\n",
    "    next_button=driver.find_element_by_xpath(\"//a[@class='_1LKTO3']\")\n",
    "    next_button.click()\n",
    "    time.sleep(4)\n",
    "rating_list[0:100]"
   ]
  },
  {
   "cell_type": "code",
   "execution_count": 29,
   "id": "9ff228a4",
   "metadata": {},
   "outputs": [
    {
     "data": {
      "text/plain": [
       "[]"
      ]
     },
     "execution_count": 29,
     "metadata": {},
     "output_type": "execute_result"
    }
   ],
   "source": [
    "for i in range(0,10):\n",
    "    review_tag=driver.find_elements_by_xpath(\"//p[@class='_2-N8zT']\")\n",
    "    for i in review_tag:\n",
    "        review=i.text\n",
    "        review_list.append(review)\n",
    "    next_button=driver.find_element_by_xpath(\"//a[@class='_1LKTO3']\")\n",
    "    next_button.click()\n",
    "    time.sleep(4)\n",
    "review_list[0:100]"
   ]
  },
  {
   "cell_type": "code",
   "execution_count": 33,
   "id": "359cb87d",
   "metadata": {},
   "outputs": [
    {
     "data": {
      "text/plain": [
       "[]"
      ]
     },
     "execution_count": 33,
     "metadata": {},
     "output_type": "execute_result"
    }
   ],
   "source": [
    "for i in range(0,10):\n",
    "    full_tag=driver.find_elements_by_xpath(\"//div[@class='t-ZTKy']\")\n",
    "    for i in full_tag:\n",
    "        full=i.text\n",
    "        full_review.append(full)\n",
    "    next_button=driver.find_element_by_xpath(\"//a[@class='_1LKTO3']\")\n",
    "    next_button.click()\n",
    "    time.sleep(4)\n",
    "full_review[0:100]"
   ]
  },
  {
   "cell_type": "code",
   "execution_count": 31,
   "id": "881b5fe5",
   "metadata": {},
   "outputs": [
    {
     "name": "stdout",
     "output_type": "stream",
     "text": [
      "0 0 0\n"
     ]
    }
   ],
   "source": [
    "print(len(rating_list),len(review_list),len(full_review))"
   ]
  },
  {
   "cell_type": "code",
   "execution_count": null,
   "id": "d309a83f",
   "metadata": {},
   "outputs": [],
   "source": []
  },
  {
   "cell_type": "markdown",
   "id": "619f0f3c",
   "metadata": {},
   "source": [
    "# Answer 6"
   ]
  },
  {
   "cell_type": "code",
   "execution_count": 14,
   "id": "50da3dcb",
   "metadata": {},
   "outputs": [],
   "source": [
    "driver=webdriver.Chrome(r\"C:\\New folder\\chromedriver.exe\")\n",
    "\n",
    "driver.get(\"https://www.flipkart.com/\")"
   ]
  },
  {
   "cell_type": "code",
   "execution_count": 15,
   "id": "de9eb8b0",
   "metadata": {},
   "outputs": [],
   "source": [
    "products=driver.find_element_by_class_name(\"_3704LK\")\n",
    "products.send_keys(\"sneakers\")\n",
    "search_button=driver.find_element_by_xpath(\"/html/body/div[1]/div/div[1]/div[1]/div[2]/div[2]/form/div/button\")\n",
    "search_button.click()"
   ]
  },
  {
   "cell_type": "code",
   "execution_count": 16,
   "id": "3c15bedc",
   "metadata": {},
   "outputs": [],
   "source": [
    "#Creating list for the aributes\n",
    "brand_list=[]\n",
    "product_description=[]\n",
    "price_list=[]"
   ]
  },
  {
   "cell_type": "code",
   "execution_count": 17,
   "id": "cb4b3189",
   "metadata": {
    "collapsed": true
   },
   "outputs": [
    {
     "data": {
      "text/plain": [
       "['BRUTON',\n",
       " 'U.S. POLO ASSN.',\n",
       " 'Layasa',\n",
       " 'BIRDE',\n",
       " 'Magnolia',\n",
       " 'Robbie jones',\n",
       " 'BRUTON',\n",
       " 'U.S. POLO ASSN.',\n",
       " 'URBANBOX',\n",
       " 'BRUTON',\n",
       " 'Robbie jones',\n",
       " 'Numenzo',\n",
       " 'Labbin',\n",
       " 'BRUTON',\n",
       " 'D-SNEAKERZ',\n",
       " 'U.S. POLO ASSN.',\n",
       " 'Robbie jones',\n",
       " 'Robbie jones',\n",
       " 'ASTEROID',\n",
       " 'BRUTON',\n",
       " 'Kraasa',\n",
       " 'PUMA',\n",
       " 'KWIK FIT',\n",
       " 'Bacan',\n",
       " 'aadi',\n",
       " 'bluemaker',\n",
       " 'PUMA',\n",
       " 'aadi',\n",
       " 'CAMPUS',\n",
       " 'ONECENTRE',\n",
       " 'aadi',\n",
       " 'BRUTON',\n",
       " 'U.S. POLO ASSN.',\n",
       " 'Dicy',\n",
       " 'CLYMB',\n",
       " 'U.S. POLO ASSN.',\n",
       " 'Kzaara',\n",
       " 'ZF Klub',\n",
       " 'BRUTON',\n",
       " 'U.S. POLO ASSN.',\n",
       " 'Robbie jones',\n",
       " 'Kraasa',\n",
       " 'corsac',\n",
       " 'Numenzo',\n",
       " 'Roadster',\n",
       " 'asics',\n",
       " 'HOTSTYLE',\n",
       " 'RapidBox',\n",
       " 'ASTEROID',\n",
       " 'Layasa',\n",
       " 'SCATCHITE',\n",
       " 'ASTEROID',\n",
       " 'Echor',\n",
       " 'KNIGHTWING',\n",
       " 'Dizzler',\n",
       " 'LuvShus',\n",
       " 'ADIDAS',\n",
       " 'PUMA',\n",
       " 'U.S. POLO ASSN.',\n",
       " 'Rising Wolf',\n",
       " 'Robbie jones',\n",
       " 'Skechers',\n",
       " 'NAUTICA',\n",
       " 'FAUSTO',\n",
       " 'Chevit',\n",
       " 'Numenzo',\n",
       " 'Numenzo',\n",
       " 'SERSI',\n",
       " 'Echor',\n",
       " 'Kraasa',\n",
       " 'BIRDE',\n",
       " 'Bonexy',\n",
       " 'Airland',\n",
       " 'BRUTON',\n",
       " 'PUMA',\n",
       " 'FAUSTO',\n",
       " 'WHITE WALKERS',\n",
       " 'Robbie jones',\n",
       " \"LEVI'S\",\n",
       " 'OZJI',\n",
       " 'DUCATI',\n",
       " 'Z Blue',\n",
       " 'ONECENTRE',\n",
       " 'FAUSTO',\n",
       " 'SPARX',\n",
       " 'SPARX',\n",
       " \"LEVI'S\",\n",
       " 'STRANGER BROTHERS',\n",
       " 'BIRDE',\n",
       " 'ASIAN',\n",
       " 'aadi',\n",
       " 'Bonexy',\n",
       " 'REEBOK CLASSICS',\n",
       " 'ESSENCE',\n",
       " 'Ktiz',\n",
       " 'FAUSTO',\n",
       " 'PUMA',\n",
       " 'Robbie jones',\n",
       " 'RATITE',\n",
       " 'ROCKFIELD']"
      ]
     },
     "execution_count": 17,
     "metadata": {},
     "output_type": "execute_result"
    }
   ],
   "source": [
    "#Extracting all the  brand tag\n",
    "for i in range(0,3):\n",
    "    brand_tag=driver.find_elements_by_xpath(\"//div[@class='_2WkVRV']\")\n",
    "    for i in brand_tag:\n",
    "        brand=i.text\n",
    "        brand_list.append(brand)\n",
    "    next_button=driver.find_element_by_xpath(\"/html/body/div[1]/div/div[3]/div[1]/div[2]/div[12]/div/div/nav/a[11]\")\n",
    "    next_button.click()\n",
    "    time.sleep(3)\n",
    "brand_list[0:100]"
   ]
  },
  {
   "cell_type": "code",
   "execution_count": 19,
   "id": "a4bfded7",
   "metadata": {
    "collapsed": true
   },
   "outputs": [
    {
     "data": {
      "text/plain": [
       "['411 Casual Sneakers For Men',\n",
       " 'Sneakers For Men',\n",
       " 'Sneakers For Men',\n",
       " 'Stylish Comfortable Lightweight, Breathable Walking Sho...',\n",
       " 'Sneakers For Men',\n",
       " 'Casual Sneakers Canvas Shoes For Men Sneakers For Men',\n",
       " 'Modern Trendy Sneakers Shoes Sneakers For Men',\n",
       " 'Modern Trendy Sneakers Shoes Sneakers For Men',\n",
       " 'Casual Sneakers Green Shoes For Men And Boys Sneakers F...',\n",
       " 'Sneakers For Men',\n",
       " 'Lightweight Pack Of 1 Trendy Sneakers Sneakers For Men',\n",
       " \"Casual , Partywear Sneakers Shoes For Men's And Boys Wh...\",\n",
       " 'Sneakers For Men',\n",
       " 'Sneakers For Men',\n",
       " \"Luxury Branded Fashionable Men's Casual Walking Partywe...\",\n",
       " 'Shark-41 Sneakers For Men',\n",
       " 'Puma Rebound LayUp SL Sneakers For Men',\n",
       " 'Kwik FIT casual sneaker shoes and partywear shoes Casua...',\n",
       " 'Sneakers For Men',\n",
       " 'casual for men Sneakers For Men',\n",
       " 'Puma Smash Vulc Sneakers For Men',\n",
       " 'KING PRO Sneakers For Men',\n",
       " 'STR2 Sneakers For Men',\n",
       " 'Sneakers For Men',\n",
       " 'PANAL Sneakers For Men',\n",
       " 'Sneakers For Men',\n",
       " 'Sneakers For Men',\n",
       " 'Sneakers For Men',\n",
       " 'Sneakers For Men',\n",
       " 'Lattest Sneakers Shoe Sneakers For Men',\n",
       " 'Sneakers For Men',\n",
       " 'Series 7 Sneakers For Men',\n",
       " 'STYLISH MENS BLACK SNEAKER Sneakers For Men',\n",
       " 'fuzor B Sneakers For Men',\n",
       " 'Sneakers For Men',\n",
       " 'Sneakers For Men',\n",
       " 'Sneakers For Men',\n",
       " 'Original Luxury Branded Black Fancy Casual Walking Part...',\n",
       " 'Sneakers Sneakers For Men',\n",
       " \"Men's Sneakers Fashion Lightweight Running Shoes Tennis...\",\n",
       " '411 Casual Sneakers For Men',\n",
       " 'Puma Smash v2 L Sneakers For Men',\n",
       " 'STREET ICON M Sneakers For Men',\n",
       " 'Sneakers For Men',\n",
       " 'Summits - Brisbane Sneakers For Men',\n",
       " 'Casual Sneakers Shoes For Men And Boys Sneakers For Men',\n",
       " 'Sneakers For Men',\n",
       " 'Sneakers For Men',\n",
       " '516 Trendy Star Perfect Sneakers For Men',\n",
       " 'Sneakers For Men',\n",
       " 'Sneakers For Men',\n",
       " \"Men's Sneakers Fashion Lightweight Running Shoes Tennis...\",\n",
       " 'Casuals, Canvas, Partywear Sneakers For Men',\n",
       " '411 Casual Sneakers For Men',\n",
       " 'Stylish Comfortable Lightweight, Breathable Walking Sho...',\n",
       " '1259 smart black lace-ups sneakers for men Sneakers For...',\n",
       " 'Sneaker Sneakers For Men',\n",
       " 'Wings Print Premium Fancy Stylish Fashion Sneakers Clas...',\n",
       " 'x KL Seattle Sneakers For Men',\n",
       " 'Stylish & Trending Outdoor Walking Comfortable Sneakers...',\n",
       " 'Casual Sneakers White Shoes For Men Sneakers For Men',\n",
       " 'Sneakers For Men',\n",
       " \"Men's Lancer Sneakers Sneakers For Men\",\n",
       " 'Stylish & Trending Outdoor Walking Comfortable Sneakers...',\n",
       " 'SS1100 Sneakers For Men',\n",
       " 'Sneakers For Men',\n",
       " 'Stylish & Trending Outdoor Walking Comfortable Sneakers...',\n",
       " 'Combo Pack Of 2 Latest Stylish Casual Shoes for Men Lac...',\n",
       " 'Sneakers For Men',\n",
       " 'Classic Lace Up Sneakers For Men',\n",
       " 'Sneakers For Men',\n",
       " 'Super Stylish & Trendy Combo Pack of 02 Pairs Sneakers ...',\n",
       " 'Sneakers For Men',\n",
       " 'Original Luxury Branded Fashionable Men Casual Partywea...',\n",
       " 'Sneakers For Men',\n",
       " 'STR2 Sneakers For Men',\n",
       " 'Sneakers For Men',\n",
       " \"Levi's Men's Henry Sneakers Sneakers For Men\",\n",
       " 'Stylish Comfortable Lightweight, Breathable Walking Sho...',\n",
       " 'Skypy-31 Walking Shoes,Training Shoes,Sneakers,Loafers,...',\n",
       " 'Sneakers For Men',\n",
       " 'White Sneaker For Men Sneakers For Men',\n",
       " 'CL LTHR GROW Sneakers For Men',\n",
       " 'Trendy Sneakers For Men',\n",
       " 'Sneakers For Men',\n",
       " 'Sneakers For Men',\n",
       " 'PL Low Racer Sneakers For Men',\n",
       " 'Casual Sneakers Canvas Shoes For Men Sneakers For Men',\n",
       " 'Sneakers For Men',\n",
       " 'Sneakers For Men',\n",
       " 'Sneakers For Men',\n",
       " 'Smash L Sneakers For Men',\n",
       " 'Sneakers For Men',\n",
       " '500 Sneakers For Men',\n",
       " 'Sneakers For Men',\n",
       " \"Nike Court Legacy Canvas Men's Shoes Sneakers For Men\",\n",
       " 'Classic Lace Up Sneakers For Men',\n",
       " 'Ebernon Low Sneakers For Men',\n",
       " 'Liga Suede Sneakers For Men',\n",
       " 'Sneakers For Men']"
      ]
     },
     "execution_count": 19,
     "metadata": {},
     "output_type": "execute_result"
    }
   ],
   "source": [
    "#Extracting all the product tag\n",
    "for i in range(0,4):\n",
    "    product_tag=driver.find_elements_by_xpath(\"//a[@class='IRpwTa']\")\n",
    "    for i in product_tag:\n",
    "        product=i.text\n",
    "        product_description.append(product)\n",
    "    next_button=driver.find_element_by_xpath(\"/html/body/div[1]/div/div[3]/div[1]/div[2]/div[12]/div/div/nav/a[11]\")\n",
    "    next_button.click()\n",
    "    time.sleep(3)\n",
    "product_description[0:100]"
   ]
  },
  {
   "cell_type": "code",
   "execution_count": 23,
   "id": "4ccd6d58",
   "metadata": {
    "collapsed": true
   },
   "outputs": [
    {
     "data": {
      "text/plain": [
       "['₹399',\n",
       " '₹299',\n",
       " '₹374',\n",
       " '₹399',\n",
       " '₹283',\n",
       " '₹198',\n",
       " '₹269',\n",
       " '₹399',\n",
       " '₹474',\n",
       " '₹149',\n",
       " '₹284',\n",
       " '₹399',\n",
       " '₹379',\n",
       " '₹474',\n",
       " '₹419',\n",
       " '₹1,841',\n",
       " '₹397',\n",
       " '₹319',\n",
       " '₹399',\n",
       " '₹2,089',\n",
       " '₹789',\n",
       " '₹300',\n",
       " '₹299',\n",
       " '₹1,295',\n",
       " '₹284',\n",
       " '₹519',\n",
       " '₹244',\n",
       " '₹363',\n",
       " '₹278',\n",
       " '₹379',\n",
       " '₹449',\n",
       " '₹499',\n",
       " '₹2,199',\n",
       " '₹989',\n",
       " '₹245',\n",
       " '₹399',\n",
       " '₹474',\n",
       " '₹360',\n",
       " '₹539',\n",
       " '₹470',\n",
       " '₹399',\n",
       " '₹299',\n",
       " '₹374',\n",
       " '₹399',\n",
       " '₹283',\n",
       " '₹198',\n",
       " '₹269',\n",
       " '₹399',\n",
       " '₹474',\n",
       " '₹149',\n",
       " '₹284',\n",
       " '₹399',\n",
       " '₹379',\n",
       " '₹474',\n",
       " '₹419',\n",
       " '₹1,841',\n",
       " '₹397',\n",
       " '₹319',\n",
       " '₹399',\n",
       " '₹2,089',\n",
       " '₹789',\n",
       " '₹300',\n",
       " '₹299',\n",
       " '₹1,295',\n",
       " '₹284',\n",
       " '₹519',\n",
       " '₹244',\n",
       " '₹363',\n",
       " '₹278',\n",
       " '₹379',\n",
       " '₹449',\n",
       " '₹499',\n",
       " '₹2,199',\n",
       " '₹989',\n",
       " '₹245',\n",
       " '₹399',\n",
       " '₹474',\n",
       " '₹360',\n",
       " '₹539',\n",
       " '₹470',\n",
       " '₹1,410',\n",
       " '₹664',\n",
       " '₹2,389',\n",
       " '₹499',\n",
       " '₹1,295',\n",
       " '₹2,449',\n",
       " '₹399',\n",
       " '₹2,399',\n",
       " '₹1,059',\n",
       " '₹269',\n",
       " '₹569',\n",
       " '₹2,039',\n",
       " '₹539',\n",
       " '₹479',\n",
       " '₹450',\n",
       " '₹2,399',\n",
       " '₹356',\n",
       " '₹210',\n",
       " '₹281',\n",
       " '₹471']"
      ]
     },
     "execution_count": 23,
     "metadata": {},
     "output_type": "execute_result"
    }
   ],
   "source": [
    "#Extracting the price tag\n",
    "for i in range(0,4):\n",
    "    price_tag=driver.find_elements_by_xpath(\"//div[@class='_30jeq3']\")\n",
    "    for i in price_tag:\n",
    "        price=i.text\n",
    "        price_list.append(price)\n",
    "    next_button=driver.find_element_by_xpath(\"/html/body/div[1]/div/div[3]/div[1]/div[2]/div[12]/div/div/nav/a[11]\")\n",
    "    next_button.click()\n",
    "    time.sleep(3)\n",
    "price_list[0:100]"
   ]
  },
  {
   "cell_type": "code",
   "execution_count": 24,
   "id": "2f39644b",
   "metadata": {},
   "outputs": [],
   "source": [
    "b=brand_list[0:100]\n",
    "p=product_description[0:100]\n",
    "pp=price_list[0:100]"
   ]
  },
  {
   "cell_type": "code",
   "execution_count": 25,
   "id": "bcf37ca5",
   "metadata": {},
   "outputs": [
    {
     "name": "stdout",
     "output_type": "stream",
     "text": [
      "100 100 100\n"
     ]
    }
   ],
   "source": [
    "print(len(b),len(p),len(pp))"
   ]
  },
  {
   "cell_type": "code",
   "execution_count": 27,
   "id": "c0603a52",
   "metadata": {},
   "outputs": [
    {
     "data": {
      "text/html": [
       "<div>\n",
       "<style scoped>\n",
       "    .dataframe tbody tr th:only-of-type {\n",
       "        vertical-align: middle;\n",
       "    }\n",
       "\n",
       "    .dataframe tbody tr th {\n",
       "        vertical-align: top;\n",
       "    }\n",
       "\n",
       "    .dataframe thead th {\n",
       "        text-align: right;\n",
       "    }\n",
       "</style>\n",
       "<table border=\"1\" class=\"dataframe\">\n",
       "  <thead>\n",
       "    <tr style=\"text-align: right;\">\n",
       "      <th></th>\n",
       "      <th>Brand</th>\n",
       "      <th>Product Description</th>\n",
       "      <th>Price</th>\n",
       "    </tr>\n",
       "  </thead>\n",
       "  <tbody>\n",
       "    <tr>\n",
       "      <th>0</th>\n",
       "      <td>BRUTON</td>\n",
       "      <td>411 Casual Sneakers For Men</td>\n",
       "      <td>₹399</td>\n",
       "    </tr>\n",
       "    <tr>\n",
       "      <th>1</th>\n",
       "      <td>U.S. POLO ASSN.</td>\n",
       "      <td>Sneakers For Men</td>\n",
       "      <td>₹299</td>\n",
       "    </tr>\n",
       "    <tr>\n",
       "      <th>2</th>\n",
       "      <td>Layasa</td>\n",
       "      <td>Sneakers For Men</td>\n",
       "      <td>₹374</td>\n",
       "    </tr>\n",
       "    <tr>\n",
       "      <th>3</th>\n",
       "      <td>BIRDE</td>\n",
       "      <td>Stylish Comfortable Lightweight, Breathable Wa...</td>\n",
       "      <td>₹399</td>\n",
       "    </tr>\n",
       "    <tr>\n",
       "      <th>4</th>\n",
       "      <td>Magnolia</td>\n",
       "      <td>Sneakers For Men</td>\n",
       "      <td>₹283</td>\n",
       "    </tr>\n",
       "    <tr>\n",
       "      <th>...</th>\n",
       "      <td>...</td>\n",
       "      <td>...</td>\n",
       "      <td>...</td>\n",
       "    </tr>\n",
       "    <tr>\n",
       "      <th>95</th>\n",
       "      <td>FAUSTO</td>\n",
       "      <td>Nike Court Legacy Canvas Men's Shoes Sneakers ...</td>\n",
       "      <td>₹2,399</td>\n",
       "    </tr>\n",
       "    <tr>\n",
       "      <th>96</th>\n",
       "      <td>PUMA</td>\n",
       "      <td>Classic Lace Up Sneakers For Men</td>\n",
       "      <td>₹356</td>\n",
       "    </tr>\n",
       "    <tr>\n",
       "      <th>97</th>\n",
       "      <td>Robbie jones</td>\n",
       "      <td>Ebernon Low Sneakers For Men</td>\n",
       "      <td>₹210</td>\n",
       "    </tr>\n",
       "    <tr>\n",
       "      <th>98</th>\n",
       "      <td>RATITE</td>\n",
       "      <td>Liga Suede Sneakers For Men</td>\n",
       "      <td>₹281</td>\n",
       "    </tr>\n",
       "    <tr>\n",
       "      <th>99</th>\n",
       "      <td>ROCKFIELD</td>\n",
       "      <td>Sneakers For Men</td>\n",
       "      <td>₹471</td>\n",
       "    </tr>\n",
       "  </tbody>\n",
       "</table>\n",
       "<p>100 rows × 3 columns</p>\n",
       "</div>"
      ],
      "text/plain": [
       "              Brand                                Product Description   Price\n",
       "0            BRUTON                        411 Casual Sneakers For Men    ₹399\n",
       "1   U.S. POLO ASSN.                                   Sneakers For Men    ₹299\n",
       "2            Layasa                                   Sneakers For Men    ₹374\n",
       "3             BIRDE  Stylish Comfortable Lightweight, Breathable Wa...    ₹399\n",
       "4          Magnolia                                   Sneakers For Men    ₹283\n",
       "..              ...                                                ...     ...\n",
       "95           FAUSTO  Nike Court Legacy Canvas Men's Shoes Sneakers ...  ₹2,399\n",
       "96             PUMA                   Classic Lace Up Sneakers For Men    ₹356\n",
       "97     Robbie jones                       Ebernon Low Sneakers For Men    ₹210\n",
       "98           RATITE                        Liga Suede Sneakers For Men    ₹281\n",
       "99        ROCKFIELD                                   Sneakers For Men    ₹471\n",
       "\n",
       "[100 rows x 3 columns]"
      ]
     },
     "execution_count": 27,
     "metadata": {},
     "output_type": "execute_result"
    }
   ],
   "source": [
    "sneakers=pd.DataFrame({'Brand':b,'Product Description':p,'Price':pp})\n",
    "sneakers"
   ]
  },
  {
   "cell_type": "markdown",
   "id": "86122c17",
   "metadata": {},
   "source": [
    "# Answer 7"
   ]
  },
  {
   "cell_type": "code",
   "execution_count": 2,
   "id": "b5477219",
   "metadata": {},
   "outputs": [],
   "source": [
    "driver=webdriver.Chrome(r\"C:\\New folder\\chromedriver.exe\")\n",
    "\n",
    "driver.get(\"https://www.myntra.com/shoes\")"
   ]
  },
  {
   "cell_type": "code",
   "execution_count": 4,
   "id": "91ff6f3c",
   "metadata": {},
   "outputs": [],
   "source": [
    "\n",
    "color_filter=driver.find_element_by_xpath(\"/html/body/div[2]/div/div[1]/main/div[3]/div[1]/section/div/div[6]/ul/li[1]/label\")\n",
    "color_filter.click()"
   ]
  },
  {
   "cell_type": "code",
   "execution_count": 5,
   "id": "ab74bc2d",
   "metadata": {},
   "outputs": [],
   "source": [
    "price_filter=driver.find_element_by_xpath(\"/html/body/div[2]/div/div[1]/main/div[3]/div[1]/section/div/div[5]/ul/li[2]/label\")\n",
    "price_filter.click()"
   ]
  },
  {
   "cell_type": "code",
   "execution_count": 3,
   "id": "f19c34ff",
   "metadata": {},
   "outputs": [],
   "source": [
    "brand_list=[]\n",
    "shoe_description=[]\n",
    "price_list=[]"
   ]
  },
  {
   "cell_type": "code",
   "execution_count": 8,
   "id": "e2427f05",
   "metadata": {
    "collapsed": true
   },
   "outputs": [
    {
     "data": {
      "text/plain": [
       "['Skechers',\n",
       " 'UNDER ARMOUR',\n",
       " 'Nike',\n",
       " 'Puma',\n",
       " 'UNDER ARMOUR',\n",
       " 'UNDER ARMOUR',\n",
       " 'Skechers',\n",
       " 'Puma',\n",
       " 'Nike',\n",
       " 'Nike',\n",
       " 'Puma',\n",
       " 'UNDER ARMOUR',\n",
       " 'UNDER ARMOUR',\n",
       " 'Vans',\n",
       " 'Skechers',\n",
       " 'Puma',\n",
       " 'Puma',\n",
       " 'Reebok',\n",
       " 'Hush Puppies',\n",
       " 'UNDER ARMOUR',\n",
       " 'Geox',\n",
       " 'Puma',\n",
       " 'Skechers',\n",
       " 'UNDER ARMOUR',\n",
       " 'Geox',\n",
       " 'ADIDAS',\n",
       " 'Geox',\n",
       " 'Columbia',\n",
       " 'J.FONTINI',\n",
       " 'Geox',\n",
       " 'Puma',\n",
       " 'ADIDAS',\n",
       " 'ADIDAS',\n",
       " 'Puma',\n",
       " 'Puma',\n",
       " 'ASICS',\n",
       " 'Puma',\n",
       " 'Hush Puppies',\n",
       " 'Geox',\n",
       " 'ADIDAS',\n",
       " 'Puma',\n",
       " 'Geox',\n",
       " 'Geox',\n",
       " 'Geox',\n",
       " 'Tommy Hilfiger',\n",
       " 'Puma',\n",
       " 'Columbia',\n",
       " 'Geox',\n",
       " 'ADIDAS',\n",
       " 'UNDER ARMOUR',\n",
       " 'EVADICT By Decathlon',\n",
       " 'Geox',\n",
       " 'Saint G',\n",
       " 'TOMS',\n",
       " 'KIPRUN By Decathlon',\n",
       " 'Clarks',\n",
       " 'J.FONTINI',\n",
       " 'ASICS',\n",
       " 'Clarks',\n",
       " 'Saint G',\n",
       " 'Geox',\n",
       " 'Geox',\n",
       " 'DAVINCHI',\n",
       " 'Clarks',\n",
       " 'Saint G',\n",
       " 'Heel & Buckle London',\n",
       " 'Bugatti',\n",
       " 'Geox',\n",
       " 'Saint G',\n",
       " 'Geox',\n",
       " 'Geox',\n",
       " 'Quechua By Decathlon',\n",
       " 'Geox',\n",
       " 'Geox',\n",
       " 'Kenkoh',\n",
       " 'Louis Philippe',\n",
       " 'DAVINCHI',\n",
       " 'Saint G',\n",
       " 'Geox',\n",
       " 'Saint G',\n",
       " 'Geox',\n",
       " 'Geox',\n",
       " 'GABICCI',\n",
       " 'FILA',\n",
       " 'ECCO',\n",
       " 'Columbia',\n",
       " 'FILA',\n",
       " 'ASICS',\n",
       " 'Columbia',\n",
       " 'Cole Haan',\n",
       " 'Geox',\n",
       " 'J.FONTINI',\n",
       " 'Geox',\n",
       " 'J.FONTINI',\n",
       " 'Clarks',\n",
       " 'Heel & Buckle London',\n",
       " 'Geox',\n",
       " 'Geox',\n",
       " 'Geox',\n",
       " 'Geox']"
      ]
     },
     "execution_count": 8,
     "metadata": {},
     "output_type": "execute_result"
    }
   ],
   "source": [
    "for i in range(0,2):\n",
    "    brand_tag=driver.find_elements_by_xpath(\"//h3[@class='product-brand']\")\n",
    "    for i in brand_tag:\n",
    "        brand=i.text\n",
    "        brand_list.append(brand)\n",
    "    next_button=driver.find_element_by_xpath(\"/html/body/div[2]/div/div[1]/main/div[3]/div[2]/div/div[2]/section/div[2]/ul/li[12]/a\")\n",
    "    next_button.click()\n",
    "    time.sleep(2)\n",
    "brand_list[0:100]"
   ]
  },
  {
   "cell_type": "code",
   "execution_count": 9,
   "id": "cdb4c9ef",
   "metadata": {
    "scrolled": true
   },
   "outputs": [
    {
     "data": {
      "text/plain": [
       "['Men Go Walk 5 Walking Shoes',\n",
       " 'Men UA Charged Breeze Training',\n",
       " 'Women Pegasus 39 Running Shoes',\n",
       " 'Men UA Charged Vantage 2 Run',\n",
       " 'Men Charged Rouge 3 Run Shoes',\n",
       " 'Men Max Cushioning Running',\n",
       " 'Women React MR 3 Running Shoes',\n",
       " 'Women React Escape Running',\n",
       " 'Men Charged Breeze Running',\n",
       " 'Men UA TriBase Reign4 Training',\n",
       " 'Men Colourblocked Sneakers',\n",
       " 'Men Woven Design Sneakers',\n",
       " 'Men Nanoflex TR Training Shoes',\n",
       " 'Men Textured Leather Sneakers',\n",
       " 'Men Deviate Nitro Shoes',\n",
       " 'Women Charged Breeze Running',\n",
       " 'Men Leather Loafers',\n",
       " 'Men Velocity Nitro Running',\n",
       " 'Men Textured Sneakers',\n",
       " 'W omen TriBase Reign 4 Running',\n",
       " 'Men Leather Sneakers',\n",
       " 'Men Solar Glide 4 ST Running',\n",
       " 'Men Textured Leather Driving Shoes',\n",
       " 'Men FACET OUTDRY Trekking Shoe',\n",
       " 'Men Leather Fashion',\n",
       " 'Men Textured Leather Driving Shoes',\n",
       " 'Women Sports Shoes',\n",
       " 'Women Supernova Running Shoes',\n",
       " 'Women Eternity NITRO Shoes',\n",
       " 'Women Running Sports Shoes',\n",
       " 'Unisex KING Top FG Shoes',\n",
       " 'Men Sports Shoes',\n",
       " 'Men Solid Leather Formal Slip-Ons',\n",
       " 'Men Textured Leather Driving Shoes',\n",
       " 'Men Textured Leather Driving Shoes',\n",
       " 'Men Textured Leather Slip-On Sneakers',\n",
       " 'Men KING Top Football Shoes',\n",
       " 'Men Textured Leather Driving Shoes',\n",
       " 'Women Solar Glide 5 Running',\n",
       " 'Men Textured Loafers',\n",
       " 'Women Magnify Nitro Running',\n",
       " 'Men Perforations Sneakers',\n",
       " 'Women REDMOND V2 TrekkingShoe',\n",
       " 'Men HOVR Sonic SE Running Shoe',\n",
       " 'Men Leather Sneakers',\n",
       " 'Women KarlieKlossX9000 Running',\n",
       " 'Men Leather Sneakers',\n",
       " 'Women Hovr Sonic SE Run Shoes',\n",
       " 'Men Leather Sneakers',\n",
       " 'Men Running Shoes',\n",
       " 'Men Running Shoes',\n",
       " '',\n",
       " 'Leather Block Sandals',\n",
       " 'Men Sneakers',\n",
       " 'Men Running Shoes',\n",
       " 'Men Leather Slip-On Sneakers',\n",
       " 'Men Textured Leather Loafers',\n",
       " 'Women Running Shoes',\n",
       " 'Men Leather Derbys',\n",
       " 'Men Leather Chelsea Boots',\n",
       " 'Women Textured Leather Loafers',\n",
       " 'Men Textured Formal Leather Loafers',\n",
       " 'Women Ballerinas Flats',\n",
       " 'Men Solid Leather Formal Loafers',\n",
       " 'Stiletto Heel Mules',\n",
       " 'Men Leather Formal Derbys',\n",
       " 'Men Textured Leather Formal Loafers',\n",
       " 'Men Leather Driving Shoes',\n",
       " 'Suede Leather Block Heel Boots',\n",
       " 'Leather Block Pumps',\n",
       " 'Textured Leather Block Pumps',\n",
       " 'Men Trekking Shoes',\n",
       " 'Flatform Heels',\n",
       " 'Leather Block Sandals',\n",
       " 'Leather Flatform Sandals',\n",
       " 'Men Solid Leather Formal Loafers',\n",
       " 'Men Formal Leather Slip-Ons',\n",
       " 'Suede Embellished Ankle Boots',\n",
       " 'Women Open Toe Flats',\n",
       " 'Women Leather Heeled Mules',\n",
       " 'Women Ballerinas Flats',\n",
       " 'Men Leather Formal Derbys',\n",
       " 'Men Formal Slip-on Shoes',\n",
       " 'Women Colourblocked Leather Sneakers',\n",
       " 'Women Textured Leather Sneakers',\n",
       " 'PEAKFREAK OUTDRY Trekking Shoe',\n",
       " 'Women Leather Sneakers',\n",
       " 'Women Running Shoes',\n",
       " 'Women Trekking Shoes',\n",
       " 'Men GENERATION ZEROGRAND STITCHLITE',\n",
       " 'Men Solid Slip-On Sneakers',\n",
       " 'Men Textured Leather Loafers',\n",
       " 'Men Leather Formal Slip-Ons',\n",
       " 'Men Solid Loafers',\n",
       " 'Men Solid Formal Leather Derbys',\n",
       " 'Men Formal Leather Derby',\n",
       " 'Men Leather Formal Loafers',\n",
       " 'Men Leather Formal Slip-Ons',\n",
       " 'Women Leather Pumps',\n",
       " 'Men Printed Slip-On Sneakers']"
      ]
     },
     "execution_count": 9,
     "metadata": {},
     "output_type": "execute_result"
    }
   ],
   "source": [
    "for i in range(0,2):\n",
    "    description_tag=driver.find_elements_by_xpath(\"//h4[@class='product-product']\")\n",
    "    for i in description_tag:\n",
    "        description=i.text\n",
    "        shoe_description.append(description)\n",
    "    next_button=driver.find_element_by_xpath(\"/html/body/div[2]/div/div[1]/main/div[3]/div[2]/div/div[2]/section/div[2]/ul/li[12]/a\")\n",
    "    next_button.click()\n",
    "    time.sleep(2)\n",
    "shoe_description[0:100]"
   ]
  },
  {
   "cell_type": "code",
   "execution_count": 11,
   "id": "f55bf07a",
   "metadata": {
    "collapsed": true
   },
   "outputs": [
    {
     "data": {
      "text/plain": [
       "['Rs. 7500Rs. 12500(40% OFF)',\n",
       " 'Rs. 9500',\n",
       " 'Rs. 12990',\n",
       " 'Rs. 8399Rs. 13999(40% OFF)',\n",
       " 'Rs. 8499',\n",
       " 'Rs. 9599Rs. 15999(40% OFF)',\n",
       " 'Rs. 7799Rs. 12999(40% OFF)',\n",
       " 'Rs. 7992Rs. 9990(20% OFF)',\n",
       " 'Rs. 9570Rs. 14500(34% OFF)',\n",
       " 'Rs. 7990',\n",
       " 'Rs. 11199Rs. 15999(30% OFF)',\n",
       " 'Rs. 7995',\n",
       " 'Rs. 8999',\n",
       " 'Rs. 9295',\n",
       " 'Rs. 7699Rs. 10999(30% OFF)',\n",
       " 'Rs. 9796Rs. 13995(30% OFF)',\n",
       " 'Rs. 8499',\n",
       " 'Rs. 8999',\n",
       " 'Rs. 8399Rs. 11999(30% OFF)',\n",
       " 'Rs. 7999',\n",
       " 'Rs. 7499',\n",
       " 'Rs. 10867Rs. 14490(25% OFF)',\n",
       " 'Rs. 9999',\n",
       " 'Rs. 8991Rs. 9990(10% OFF)',\n",
       " 'Rs. 7999',\n",
       " 'Rs. 7799Rs. 11999(35% OFF)',\n",
       " 'Rs. 8249Rs. 14999(45% OFF)',\n",
       " 'Rs. 9999',\n",
       " 'Rs. 8499',\n",
       " 'Rs. 9990',\n",
       " 'Rs. 9093Rs. 12990(30% OFF)',\n",
       " 'Rs. 9999',\n",
       " 'Rs. 13999',\n",
       " 'Rs. 12475',\n",
       " 'Rs. 8249Rs. 10999(25% OFF)',\n",
       " 'Rs. 8999',\n",
       " 'Rs. 8490',\n",
       " 'Rs. 7794Rs. 12990(40% OFF)',\n",
       " 'Rs. 7490',\n",
       " 'Rs. 7199Rs. 7999(10% OFF)',\n",
       " 'Rs. 12999',\n",
       " 'Rs. 8999Rs. 11999(25% OFF)',\n",
       " 'Rs. 11999',\n",
       " 'Rs. 11990',\n",
       " 'Rs. 13775Rs. 14500(5% OFF)',\n",
       " 'Rs. 10999',\n",
       " 'Rs. 9999',\n",
       " 'Rs. 7499',\n",
       " 'Rs. 9999Rs. 19999(50% OFF)',\n",
       " 'Rs. 13799Rs. 22999(40% OFF)',\n",
       " 'Rs. 7499',\n",
       " 'Rs. 9499',\n",
       " 'Rs. 7999',\n",
       " 'Rs. 8999Rs. 14999( 40 % OFF)',\n",
       " 'Rs. 7999',\n",
       " 'Rs. 8399Rs. 13999(40% OFF)',\n",
       " 'Rs. 7999',\n",
       " 'Rs. 7999Rs. 9999(20% OFF)',\n",
       " 'Rs. 13999',\n",
       " 'Rs. 11199Rs. 15999(30% OFF)',\n",
       " 'Rs. 9999',\n",
       " 'Rs. 9990',\n",
       " 'Rs. 8999Rs. 14999(40% OFF)',\n",
       " 'Rs. 8399Rs. 11999(30% OFF)',\n",
       " 'Rs. 8399Rs. 11999(30% OFF)',\n",
       " 'Rs. 7999',\n",
       " 'Rs. 11999',\n",
       " 'Rs. 9990',\n",
       " 'Rs. 9999',\n",
       " 'Rs. 11999',\n",
       " 'Rs. 13999',\n",
       " 'Rs. 7992Rs. 9990(20% OFF)',\n",
       " 'Rs. 8990',\n",
       " 'Rs. 10990',\n",
       " 'Rs. 8399Rs. 11999(30% OFF)',\n",
       " 'Rs. 10499Rs. 14999(30% OFF)',\n",
       " 'Rs. 9999',\n",
       " 'Rs. 8399Rs. 11999(30% OFF)',\n",
       " 'Rs. 8575',\n",
       " 'Rs. 8999Rs. 17999(50% OFF)',\n",
       " 'Rs. 7699Rs. 10999(30% OFF)',\n",
       " 'Rs. 8990',\n",
       " 'Rs. 11990',\n",
       " 'Rs. 7490',\n",
       " 'Rs. 8990',\n",
       " 'Rs. 10990',\n",
       " 'Rs. 7499Rs. 14999(50% OFF)',\n",
       " 'Rs. 11990',\n",
       " 'Rs. 11990',\n",
       " 'Rs. 7599',\n",
       " 'Rs. 10999',\n",
       " 'Rs. 12316Rs. 17595(30% OFF)',\n",
       " 'Rs. 7995',\n",
       " 'Rs. 8399Rs. 13999( 40 % OFF)',\n",
       " 'Rs. 9025Rs. 9500(5% OFF)',\n",
       " 'Rs. 7999',\n",
       " 'Rs. 9999',\n",
       " 'Rs. 8394Rs. 13990(40% OFF)',\n",
       " 'Rs. 7699Rs. 13999(45% OFF)',\n",
       " 'Rs. 8049Rs. 11499(30% OFF)']"
      ]
     },
     "execution_count": 11,
     "metadata": {},
     "output_type": "execute_result"
    }
   ],
   "source": [
    "for i in range(0,2):\n",
    "    price_tag=driver.find_elements_by_xpath(\"//div[@class='product-price']\")\n",
    "    for i in price_tag:\n",
    "        price=i.text\n",
    "        price_list.append(price)\n",
    "    next_button=driver.find_element_by_xpath(\"/html/body/div[2]/div/div[1]/main/div[3]/div[2]/div/div[2]/section/div[2]/ul/li[12]/a\")\n",
    "    next_button.click()\n",
    "    time.sleep(2)\n",
    "price_list[0:100]    "
   ]
  },
  {
   "cell_type": "code",
   "execution_count": 12,
   "id": "69dae7c3",
   "metadata": {},
   "outputs": [],
   "source": [
    "b=brand_list[0:100]\n",
    "s=shoe_description[0:100]\n",
    "p=price_list[0:100]"
   ]
  },
  {
   "cell_type": "code",
   "execution_count": 13,
   "id": "306af207",
   "metadata": {},
   "outputs": [
    {
     "name": "stdout",
     "output_type": "stream",
     "text": [
      "100 100 100\n"
     ]
    }
   ],
   "source": [
    "print(len(b),len(s),len(p))"
   ]
  },
  {
   "cell_type": "code",
   "execution_count": 15,
   "id": "77762dcb",
   "metadata": {},
   "outputs": [
    {
     "data": {
      "text/html": [
       "<div>\n",
       "<style scoped>\n",
       "    .dataframe tbody tr th:only-of-type {\n",
       "        vertical-align: middle;\n",
       "    }\n",
       "\n",
       "    .dataframe tbody tr th {\n",
       "        vertical-align: top;\n",
       "    }\n",
       "\n",
       "    .dataframe thead th {\n",
       "        text-align: right;\n",
       "    }\n",
       "</style>\n",
       "<table border=\"1\" class=\"dataframe\">\n",
       "  <thead>\n",
       "    <tr style=\"text-align: right;\">\n",
       "      <th></th>\n",
       "      <th>BRAND</th>\n",
       "      <th>SHOES DESCRIPTION</th>\n",
       "      <th>PRICE</th>\n",
       "    </tr>\n",
       "  </thead>\n",
       "  <tbody>\n",
       "    <tr>\n",
       "      <th>0</th>\n",
       "      <td>Skechers</td>\n",
       "      <td>Men Go Walk 5 Walking Shoes</td>\n",
       "      <td>Rs. 7500Rs. 12500(40% OFF)</td>\n",
       "    </tr>\n",
       "    <tr>\n",
       "      <th>1</th>\n",
       "      <td>UNDER ARMOUR</td>\n",
       "      <td>Men UA Charged Breeze Training</td>\n",
       "      <td>Rs. 9500</td>\n",
       "    </tr>\n",
       "    <tr>\n",
       "      <th>2</th>\n",
       "      <td>Nike</td>\n",
       "      <td>Women Pegasus 39 Running Shoes</td>\n",
       "      <td>Rs. 12990</td>\n",
       "    </tr>\n",
       "    <tr>\n",
       "      <th>3</th>\n",
       "      <td>Puma</td>\n",
       "      <td>Men UA Charged Vantage 2 Run</td>\n",
       "      <td>Rs. 8399Rs. 13999(40% OFF)</td>\n",
       "    </tr>\n",
       "    <tr>\n",
       "      <th>4</th>\n",
       "      <td>UNDER ARMOUR</td>\n",
       "      <td>Men Charged Rouge 3 Run Shoes</td>\n",
       "      <td>Rs. 8499</td>\n",
       "    </tr>\n",
       "    <tr>\n",
       "      <th>...</th>\n",
       "      <td>...</td>\n",
       "      <td>...</td>\n",
       "      <td>...</td>\n",
       "    </tr>\n",
       "    <tr>\n",
       "      <th>95</th>\n",
       "      <td>Heel &amp; Buckle London</td>\n",
       "      <td>Men Formal Leather Derby</td>\n",
       "      <td>Rs. 7999</td>\n",
       "    </tr>\n",
       "    <tr>\n",
       "      <th>96</th>\n",
       "      <td>Geox</td>\n",
       "      <td>Men Leather Formal Loafers</td>\n",
       "      <td>Rs. 9999</td>\n",
       "    </tr>\n",
       "    <tr>\n",
       "      <th>97</th>\n",
       "      <td>Geox</td>\n",
       "      <td>Men Leather Formal Slip-Ons</td>\n",
       "      <td>Rs. 8394Rs. 13990(40% OFF)</td>\n",
       "    </tr>\n",
       "    <tr>\n",
       "      <th>98</th>\n",
       "      <td>Geox</td>\n",
       "      <td>Women Leather Pumps</td>\n",
       "      <td>Rs. 7699Rs. 13999(45% OFF)</td>\n",
       "    </tr>\n",
       "    <tr>\n",
       "      <th>99</th>\n",
       "      <td>Geox</td>\n",
       "      <td>Men Printed Slip-On Sneakers</td>\n",
       "      <td>Rs. 8049Rs. 11499(30% OFF)</td>\n",
       "    </tr>\n",
       "  </tbody>\n",
       "</table>\n",
       "<p>100 rows × 3 columns</p>\n",
       "</div>"
      ],
      "text/plain": [
       "                   BRAND               SHOES DESCRIPTION  \\\n",
       "0               Skechers     Men Go Walk 5 Walking Shoes   \n",
       "1           UNDER ARMOUR  Men UA Charged Breeze Training   \n",
       "2                   Nike  Women Pegasus 39 Running Shoes   \n",
       "3                   Puma    Men UA Charged Vantage 2 Run   \n",
       "4           UNDER ARMOUR   Men Charged Rouge 3 Run Shoes   \n",
       "..                   ...                             ...   \n",
       "95  Heel & Buckle London        Men Formal Leather Derby   \n",
       "96                  Geox      Men Leather Formal Loafers   \n",
       "97                  Geox     Men Leather Formal Slip-Ons   \n",
       "98                  Geox             Women Leather Pumps   \n",
       "99                  Geox    Men Printed Slip-On Sneakers   \n",
       "\n",
       "                         PRICE  \n",
       "0   Rs. 7500Rs. 12500(40% OFF)  \n",
       "1                     Rs. 9500  \n",
       "2                    Rs. 12990  \n",
       "3   Rs. 8399Rs. 13999(40% OFF)  \n",
       "4                     Rs. 8499  \n",
       "..                         ...  \n",
       "95                    Rs. 7999  \n",
       "96                    Rs. 9999  \n",
       "97  Rs. 8394Rs. 13990(40% OFF)  \n",
       "98  Rs. 7699Rs. 13999(45% OFF)  \n",
       "99  Rs. 8049Rs. 11499(30% OFF)  \n",
       "\n",
       "[100 rows x 3 columns]"
      ]
     },
     "execution_count": 15,
     "metadata": {},
     "output_type": "execute_result"
    }
   ],
   "source": [
    "shoes=pd.DataFrame({'BRAND':b,'SHOES DESCRIPTION':s,'PRICE':p})\n",
    "shoes"
   ]
  },
  {
   "cell_type": "markdown",
   "id": "df3bc629",
   "metadata": {},
   "source": [
    "# Answer 8"
   ]
  },
  {
   "cell_type": "code",
   "execution_count": 39,
   "id": "573659f0",
   "metadata": {},
   "outputs": [],
   "source": [
    "driver=webdriver.Chrome(r\"C:\\New folder\\chromedriver.exe\")\n",
    "\n",
    "driver.get(\"https://www.amazon.in/\")"
   ]
  },
  {
   "cell_type": "code",
   "execution_count": 28,
   "id": "3e050eff",
   "metadata": {
    "collapsed": true
   },
   "outputs": [
    {
     "ename": "ElementNotInteractableException",
     "evalue": "Message: element not interactable\n  (Session info: chrome=102.0.5005.115)\nStacktrace:\nBacktrace:\n\tOrdinal0 [0x00D9D953+2414931]\n\tOrdinal0 [0x00D2F5E1+1963489]\n\tOrdinal0 [0x00C1C580+836992]\n\tOrdinal0 [0x00C44BE3+1002467]\n\tOrdinal0 [0x00C442C8+1000136]\n\tOrdinal0 [0x00C6449C+1131676]\n\tOrdinal0 [0x00C3FC74+982132]\n\tOrdinal0 [0x00C646B4+1132212]\n\tOrdinal0 [0x00C74812+1198098]\n\tOrdinal0 [0x00C642B6+1131190]\n\tOrdinal0 [0x00C3E860+976992]\n\tOrdinal0 [0x00C3F756+980822]\n\tGetHandleVerifier [0x0100CC62+2510274]\n\tGetHandleVerifier [0x00FFF760+2455744]\n\tGetHandleVerifier [0x00E2EABA+551962]\n\tGetHandleVerifier [0x00E2D916+547446]\n\tOrdinal0 [0x00D35F3B+1990459]\n\tOrdinal0 [0x00D3A898+2009240]\n\tOrdinal0 [0x00D3A985+2009477]\n\tOrdinal0 [0x00D43AD1+2046673]\n\tBaseThreadInitThunk [0x76B56739+25]\n\tRtlGetFullPathName_UEx [0x77738FEF+1215]\n\tRtlGetFullPathName_UEx [0x77738FBD+1165]\n",
     "output_type": "error",
     "traceback": [
      "\u001b[1;31m---------------------------------------------------------------------------\u001b[0m",
      "\u001b[1;31mElementNotInteractableException\u001b[0m           Traceback (most recent call last)",
      "Input \u001b[1;32mIn [28]\u001b[0m, in \u001b[0;36m<cell line: 2>\u001b[1;34m()\u001b[0m\n\u001b[0;32m      1\u001b[0m products\u001b[38;5;241m=\u001b[39mdriver\u001b[38;5;241m.\u001b[39mfind_element_by_class_name(\u001b[38;5;124m\"\u001b[39m\u001b[38;5;124mnav-search-field \u001b[39m\u001b[38;5;124m\"\u001b[39m)\n\u001b[1;32m----> 2\u001b[0m \u001b[43mproducts\u001b[49m\u001b[38;5;241;43m.\u001b[39;49m\u001b[43msend_keys\u001b[49m\u001b[43m(\u001b[49m\u001b[38;5;124;43m'\u001b[39;49m\u001b[38;5;124;43mlaptop\u001b[39;49m\u001b[38;5;124;43m'\u001b[39;49m\u001b[43m)\u001b[49m\n\u001b[0;32m      3\u001b[0m search_button\u001b[38;5;241m=\u001b[39mdriver\u001b[38;5;241m.\u001b[39mfind_element_by_xpath(\u001b[38;5;124m\"\u001b[39m\u001b[38;5;124m/html/body/div[1]/header/div/div[1]/div[2]/div/form/div[3]/div/span\u001b[39m\u001b[38;5;124m\"\u001b[39m)\n\u001b[0;32m      4\u001b[0m search_button\u001b[38;5;241m.\u001b[39mclick()\n",
      "File \u001b[1;32m~\\anaconda3\\lib\\site-packages\\selenium\\webdriver\\remote\\webelement.py:600\u001b[0m, in \u001b[0;36mWebElement.send_keys\u001b[1;34m(self, *value)\u001b[0m\n\u001b[0;32m    597\u001b[0m             remote_files\u001b[38;5;241m.\u001b[39mappend(\u001b[38;5;28mself\u001b[39m\u001b[38;5;241m.\u001b[39m_upload(file))\n\u001b[0;32m    598\u001b[0m         value \u001b[38;5;241m=\u001b[39m \u001b[38;5;124m'\u001b[39m\u001b[38;5;130;01m\\n\u001b[39;00m\u001b[38;5;124m'\u001b[39m\u001b[38;5;241m.\u001b[39mjoin(remote_files)\n\u001b[1;32m--> 600\u001b[0m \u001b[38;5;28;43mself\u001b[39;49m\u001b[38;5;241;43m.\u001b[39;49m\u001b[43m_execute\u001b[49m\u001b[43m(\u001b[49m\u001b[43mCommand\u001b[49m\u001b[38;5;241;43m.\u001b[39;49m\u001b[43mSEND_KEYS_TO_ELEMENT\u001b[49m\u001b[43m,\u001b[49m\n\u001b[0;32m    601\u001b[0m \u001b[43m              \u001b[49m\u001b[43m{\u001b[49m\u001b[38;5;124;43m'\u001b[39;49m\u001b[38;5;124;43mtext\u001b[39;49m\u001b[38;5;124;43m'\u001b[39;49m\u001b[43m:\u001b[49m\u001b[43m \u001b[49m\u001b[38;5;124;43m\"\u001b[39;49m\u001b[38;5;124;43m\"\u001b[39;49m\u001b[38;5;241;43m.\u001b[39;49m\u001b[43mjoin\u001b[49m\u001b[43m(\u001b[49m\u001b[43mkeys_to_typing\u001b[49m\u001b[43m(\u001b[49m\u001b[43mvalue\u001b[49m\u001b[43m)\u001b[49m\u001b[43m)\u001b[49m\u001b[43m,\u001b[49m\n\u001b[0;32m    602\u001b[0m \u001b[43m               \u001b[49m\u001b[38;5;124;43m'\u001b[39;49m\u001b[38;5;124;43mvalue\u001b[39;49m\u001b[38;5;124;43m'\u001b[39;49m\u001b[43m:\u001b[49m\u001b[43m \u001b[49m\u001b[43mkeys_to_typing\u001b[49m\u001b[43m(\u001b[49m\u001b[43mvalue\u001b[49m\u001b[43m)\u001b[49m\u001b[43m}\u001b[49m\u001b[43m)\u001b[49m\n",
      "File \u001b[1;32m~\\anaconda3\\lib\\site-packages\\selenium\\webdriver\\remote\\webelement.py:773\u001b[0m, in \u001b[0;36mWebElement._execute\u001b[1;34m(self, command, params)\u001b[0m\n\u001b[0;32m    771\u001b[0m     params \u001b[38;5;241m=\u001b[39m {}\n\u001b[0;32m    772\u001b[0m params[\u001b[38;5;124m'\u001b[39m\u001b[38;5;124mid\u001b[39m\u001b[38;5;124m'\u001b[39m] \u001b[38;5;241m=\u001b[39m \u001b[38;5;28mself\u001b[39m\u001b[38;5;241m.\u001b[39m_id\n\u001b[1;32m--> 773\u001b[0m \u001b[38;5;28;01mreturn\u001b[39;00m \u001b[38;5;28;43mself\u001b[39;49m\u001b[38;5;241;43m.\u001b[39;49m\u001b[43m_parent\u001b[49m\u001b[38;5;241;43m.\u001b[39;49m\u001b[43mexecute\u001b[49m\u001b[43m(\u001b[49m\u001b[43mcommand\u001b[49m\u001b[43m,\u001b[49m\u001b[43m \u001b[49m\u001b[43mparams\u001b[49m\u001b[43m)\u001b[49m\n",
      "File \u001b[1;32m~\\anaconda3\\lib\\site-packages\\selenium\\webdriver\\remote\\webdriver.py:430\u001b[0m, in \u001b[0;36mWebDriver.execute\u001b[1;34m(self, driver_command, params)\u001b[0m\n\u001b[0;32m    428\u001b[0m response \u001b[38;5;241m=\u001b[39m \u001b[38;5;28mself\u001b[39m\u001b[38;5;241m.\u001b[39mcommand_executor\u001b[38;5;241m.\u001b[39mexecute(driver_command, params)\n\u001b[0;32m    429\u001b[0m \u001b[38;5;28;01mif\u001b[39;00m response:\n\u001b[1;32m--> 430\u001b[0m     \u001b[38;5;28;43mself\u001b[39;49m\u001b[38;5;241;43m.\u001b[39;49m\u001b[43merror_handler\u001b[49m\u001b[38;5;241;43m.\u001b[39;49m\u001b[43mcheck_response\u001b[49m\u001b[43m(\u001b[49m\u001b[43mresponse\u001b[49m\u001b[43m)\u001b[49m\n\u001b[0;32m    431\u001b[0m     response[\u001b[38;5;124m'\u001b[39m\u001b[38;5;124mvalue\u001b[39m\u001b[38;5;124m'\u001b[39m] \u001b[38;5;241m=\u001b[39m \u001b[38;5;28mself\u001b[39m\u001b[38;5;241m.\u001b[39m_unwrap_value(\n\u001b[0;32m    432\u001b[0m         response\u001b[38;5;241m.\u001b[39mget(\u001b[38;5;124m'\u001b[39m\u001b[38;5;124mvalue\u001b[39m\u001b[38;5;124m'\u001b[39m, \u001b[38;5;28;01mNone\u001b[39;00m))\n\u001b[0;32m    433\u001b[0m     \u001b[38;5;28;01mreturn\u001b[39;00m response\n",
      "File \u001b[1;32m~\\anaconda3\\lib\\site-packages\\selenium\\webdriver\\remote\\errorhandler.py:247\u001b[0m, in \u001b[0;36mErrorHandler.check_response\u001b[1;34m(self, response)\u001b[0m\n\u001b[0;32m    245\u001b[0m         alert_text \u001b[38;5;241m=\u001b[39m value[\u001b[38;5;124m'\u001b[39m\u001b[38;5;124malert\u001b[39m\u001b[38;5;124m'\u001b[39m]\u001b[38;5;241m.\u001b[39mget(\u001b[38;5;124m'\u001b[39m\u001b[38;5;124mtext\u001b[39m\u001b[38;5;124m'\u001b[39m)\n\u001b[0;32m    246\u001b[0m     \u001b[38;5;28;01mraise\u001b[39;00m exception_class(message, screen, stacktrace, alert_text)  \u001b[38;5;66;03m# type: ignore[call-arg]  # mypy is not smart enough here\u001b[39;00m\n\u001b[1;32m--> 247\u001b[0m \u001b[38;5;28;01mraise\u001b[39;00m exception_class(message, screen, stacktrace)\n",
      "\u001b[1;31mElementNotInteractableException\u001b[0m: Message: element not interactable\n  (Session info: chrome=102.0.5005.115)\nStacktrace:\nBacktrace:\n\tOrdinal0 [0x00D9D953+2414931]\n\tOrdinal0 [0x00D2F5E1+1963489]\n\tOrdinal0 [0x00C1C580+836992]\n\tOrdinal0 [0x00C44BE3+1002467]\n\tOrdinal0 [0x00C442C8+1000136]\n\tOrdinal0 [0x00C6449C+1131676]\n\tOrdinal0 [0x00C3FC74+982132]\n\tOrdinal0 [0x00C646B4+1132212]\n\tOrdinal0 [0x00C74812+1198098]\n\tOrdinal0 [0x00C642B6+1131190]\n\tOrdinal0 [0x00C3E860+976992]\n\tOrdinal0 [0x00C3F756+980822]\n\tGetHandleVerifier [0x0100CC62+2510274]\n\tGetHandleVerifier [0x00FFF760+2455744]\n\tGetHandleVerifier [0x00E2EABA+551962]\n\tGetHandleVerifier [0x00E2D916+547446]\n\tOrdinal0 [0x00D35F3B+1990459]\n\tOrdinal0 [0x00D3A898+2009240]\n\tOrdinal0 [0x00D3A985+2009477]\n\tOrdinal0 [0x00D43AD1+2046673]\n\tBaseThreadInitThunk [0x76B56739+25]\n\tRtlGetFullPathName_UEx [0x77738FEF+1215]\n\tRtlGetFullPathName_UEx [0x77738FBD+1165]\n"
     ]
    }
   ],
   "source": [
    "products=driver.find_element_by_class_name(\"nav-search-field \")\n",
    "products.send_keys('laptop')\n",
    "search_button=driver.find_element_by_xpath(\"/html/body/div[1]/header/div/div[1]/div[2]/div/form/div[3]/div/span\")\n",
    "search_button.click()"
   ]
  },
  {
   "cell_type": "code",
   "execution_count": 40,
   "id": "fc2bc3c4",
   "metadata": {},
   "outputs": [],
   "source": [
    "cpu_filter=driver.find_element_by_xpath(\"/html/body/div[1]/div[2]/div[1]/div[2]/div/div[3]/span/div[1]/div/div/div[5]/ul[4]/li[13]/span/a\")\n",
    "cpu_filter.click()"
   ]
  },
  {
   "cell_type": "code",
   "execution_count": 41,
   "id": "afccb394",
   "metadata": {},
   "outputs": [],
   "source": [
    "title_list=[]\n",
    "rating_list=[]\n",
    "price_list=[]"
   ]
  },
  {
   "cell_type": "code",
   "execution_count": 42,
   "id": "ac5a4a69",
   "metadata": {
    "collapsed": true
   },
   "outputs": [
    {
     "data": {
      "text/plain": [
       "['ASUS VivoBook 14 (2021), 14-inch (35.56 cms) FHD, Intel Core i7-1065G7 10th Gen, Thin and Light Laptop (16GB/512GB SSD/Integrated Graphics/Office 2021/Windows 11/Silver/1.6 Kg), X415JA-EK701WS',\n",
       " 'ASUS TUF Gaming F15 (2021), 15.6\" (39.62 cms) FHD 144Hz, Intel Core i7-11600H 11th Gen, 4GB RTX 3050 Graphics, Gaming Laptop (16GB/512GB SSD/Windows 10/Office 2019/Gray/2.3 Kg), FX566HCB-HN299TS',\n",
       " 'HP Pavilion 14 12th Gen Intel Core i7 16GB SDRAM/1TB SSD 14 inch(35.6cm) FHD,IPS,Micro-Edge Display/Intel UHD Graphics/B&O/Win 11/Alexa Built-in/Backlit KB/FPR/MSO 2021/Natural Silver, 14-dv2015TU',\n",
       " 'Lenovo IdeaPad 5 Pro 11th Gen Intel Core i7 14 inches QHD IPS Thin and Light Laptop (16GB/512GB SSD/Iris Xe Graphics/Windows 11/Office 2021/Backlit/300Nits/Storm Grey/1.41Kg), 82L3006YIN',\n",
       " 'Lenovo ThinkBook 15 Intel 11th Gen Core i7 15.6\"(39.62 cm)FHD Thin and Light Laptop (16GB/512GB SSD/Windows 11 Home/MS Office H&S 2021/Iris® Xe Graphics/Backlit/Mineral Grey/1.7 Kg) 20VE00W4IH',\n",
       " 'ASUS TUF Gaming F15 (2021) 15.6-inch (39.62 cms) FHD 144Hz, Intel Core i7-11800H 11th Gen, RTX 3050 4GB Graphics, Gaming Laptop (8GB/1TB SSD/Windows 10/Gray/2.3 Kg), FX566HCB-HN231T, Eclipse Gray',\n",
       " 'ASUS Vivobook X515JA-EJ701WS Intel Core I7-1065G7 15.6 inches FHD 512 GB SSD /16 GB/Windows 11/Office 2019/1Y (Transparent Silver, 2 kg)',\n",
       " 'HP Pavilion x360 11th Gen Intel Core i7 14 inch(35.6 cm) FHD Multitouch 2-in-1 Laptop(16GB RAM/512GB SSD/B&O/Win 11/FPR/Backlit KB/Intel Iris Xe Graphics/Pen/Alexa/MS Office/Silver/1.52Kg) 14-dy1047TU',\n",
       " 'HP Victus 11th Gen Intel Core i7-11800H 16.1-inch(40.9 cm) FHD Gaming Laptop (16GB RAM/512GB SSD/144 Hz/300 nits/7 ms Response time/GeForce RTX 3060 6GB Graphics/Backlit KB/Win 11/MSO), 16-d0361TX',\n",
       " 'ASUS Zenbook 14 OLED (2022), 14\" (35.56 cms) 2.8K OLED 16:10 90Hz, Intel Core Evo i7-1260P 12th Gen, Thin and Light Laptop (16GB/512GB SSD/Windows 11/Office 2021/Blue/1.39 kg), UX3402ZA-KM731WS']"
      ]
     },
     "execution_count": 42,
     "metadata": {},
     "output_type": "execute_result"
    }
   ],
   "source": [
    "title_tag=driver.find_elements_by_xpath(\"//h2[@class='a-size-mini a-spacing-none a-color-base s-line-clamp-2']\")\n",
    "for i in title_tag:\n",
    "    title=i.text\n",
    "    title_list.append(title)\n",
    "title_list[0:10]"
   ]
  },
  {
   "cell_type": "code",
   "execution_count": 43,
   "id": "ec63e30c",
   "metadata": {},
   "outputs": [
    {
     "data": {
      "text/plain": [
       "['115', '14', '2', '6', '44', '18', '10', '5', '1', '2']"
      ]
     },
     "execution_count": 43,
     "metadata": {},
     "output_type": "execute_result"
    }
   ],
   "source": [
    "rating_tag=driver.find_elements_by_xpath(\"//span[@class='a-size-base s-underline-text']\")\n",
    "for i in rating_tag:\n",
    "    rating=i.text\n",
    "    rating_list.append(rating)\n",
    "rating_list[0:10]"
   ]
  },
  {
   "cell_type": "code",
   "execution_count": 44,
   "id": "918fd5e7",
   "metadata": {
    "collapsed": true
   },
   "outputs": [
    {
     "data": {
      "text/plain": [
       "['57,990',\n",
       " '89,990',\n",
       " '86,990',\n",
       " '74,614',\n",
       " '86,990',\n",
       " '92,990',\n",
       " '57,300',\n",
       " '84,990',\n",
       " '1,20,062',\n",
       " '1,04,849']"
      ]
     },
     "execution_count": 44,
     "metadata": {},
     "output_type": "execute_result"
    }
   ],
   "source": [
    "price_tag=driver.find_elements_by_xpath(\"//span[@class='a-price-whole']\")\n",
    "for i in price_tag:\n",
    "    price=i.text\n",
    "    price_list.append(price)\n",
    "price_list[0:10]"
   ]
  },
  {
   "cell_type": "code",
   "execution_count": 46,
   "id": "eefe2f81",
   "metadata": {},
   "outputs": [],
   "source": [
    "t=title_list[0:10]\n",
    "r=rating_list[0:10]\n",
    "p=price_list[0:10]"
   ]
  },
  {
   "cell_type": "code",
   "execution_count": 47,
   "id": "0c108ea2",
   "metadata": {},
   "outputs": [
    {
     "name": "stdout",
     "output_type": "stream",
     "text": [
      "10 10 10\n"
     ]
    }
   ],
   "source": [
    "print(len(t),len(r),len(p))"
   ]
  },
  {
   "cell_type": "code",
   "execution_count": 48,
   "id": "3030fe4a",
   "metadata": {},
   "outputs": [
    {
     "data": {
      "text/html": [
       "<div>\n",
       "<style scoped>\n",
       "    .dataframe tbody tr th:only-of-type {\n",
       "        vertical-align: middle;\n",
       "    }\n",
       "\n",
       "    .dataframe tbody tr th {\n",
       "        vertical-align: top;\n",
       "    }\n",
       "\n",
       "    .dataframe thead th {\n",
       "        text-align: right;\n",
       "    }\n",
       "</style>\n",
       "<table border=\"1\" class=\"dataframe\">\n",
       "  <thead>\n",
       "    <tr style=\"text-align: right;\">\n",
       "      <th></th>\n",
       "      <th>Title</th>\n",
       "      <th>Rating</th>\n",
       "      <th>Price</th>\n",
       "    </tr>\n",
       "  </thead>\n",
       "  <tbody>\n",
       "    <tr>\n",
       "      <th>0</th>\n",
       "      <td>ASUS VivoBook 14 (2021), 14-inch (35.56 cms) F...</td>\n",
       "      <td>115</td>\n",
       "      <td>57,990</td>\n",
       "    </tr>\n",
       "    <tr>\n",
       "      <th>1</th>\n",
       "      <td>ASUS TUF Gaming F15 (2021), 15.6\" (39.62 cms) ...</td>\n",
       "      <td>14</td>\n",
       "      <td>89,990</td>\n",
       "    </tr>\n",
       "    <tr>\n",
       "      <th>2</th>\n",
       "      <td>HP Pavilion 14 12th Gen Intel Core i7 16GB SDR...</td>\n",
       "      <td>2</td>\n",
       "      <td>86,990</td>\n",
       "    </tr>\n",
       "    <tr>\n",
       "      <th>3</th>\n",
       "      <td>Lenovo IdeaPad 5 Pro 11th Gen Intel Core i7 14...</td>\n",
       "      <td>6</td>\n",
       "      <td>74,614</td>\n",
       "    </tr>\n",
       "    <tr>\n",
       "      <th>4</th>\n",
       "      <td>Lenovo ThinkBook 15 Intel 11th Gen Core i7 15....</td>\n",
       "      <td>44</td>\n",
       "      <td>86,990</td>\n",
       "    </tr>\n",
       "    <tr>\n",
       "      <th>5</th>\n",
       "      <td>ASUS TUF Gaming F15 (2021) 15.6-inch (39.62 cm...</td>\n",
       "      <td>18</td>\n",
       "      <td>92,990</td>\n",
       "    </tr>\n",
       "    <tr>\n",
       "      <th>6</th>\n",
       "      <td>ASUS Vivobook X515JA-EJ701WS Intel Core I7-106...</td>\n",
       "      <td>10</td>\n",
       "      <td>57,300</td>\n",
       "    </tr>\n",
       "    <tr>\n",
       "      <th>7</th>\n",
       "      <td>HP Pavilion x360 11th Gen Intel Core i7 14 inc...</td>\n",
       "      <td>5</td>\n",
       "      <td>84,990</td>\n",
       "    </tr>\n",
       "    <tr>\n",
       "      <th>8</th>\n",
       "      <td>HP Victus 11th Gen Intel Core i7-11800H 16.1-i...</td>\n",
       "      <td>1</td>\n",
       "      <td>1,20,062</td>\n",
       "    </tr>\n",
       "    <tr>\n",
       "      <th>9</th>\n",
       "      <td>ASUS Zenbook 14 OLED (2022), 14\" (35.56 cms) 2...</td>\n",
       "      <td>2</td>\n",
       "      <td>1,04,849</td>\n",
       "    </tr>\n",
       "  </tbody>\n",
       "</table>\n",
       "</div>"
      ],
      "text/plain": [
       "                                               Title Rating     Price\n",
       "0  ASUS VivoBook 14 (2021), 14-inch (35.56 cms) F...    115    57,990\n",
       "1  ASUS TUF Gaming F15 (2021), 15.6\" (39.62 cms) ...     14    89,990\n",
       "2  HP Pavilion 14 12th Gen Intel Core i7 16GB SDR...      2    86,990\n",
       "3  Lenovo IdeaPad 5 Pro 11th Gen Intel Core i7 14...      6    74,614\n",
       "4  Lenovo ThinkBook 15 Intel 11th Gen Core i7 15....     44    86,990\n",
       "5  ASUS TUF Gaming F15 (2021) 15.6-inch (39.62 cm...     18    92,990\n",
       "6  ASUS Vivobook X515JA-EJ701WS Intel Core I7-106...     10    57,300\n",
       "7  HP Pavilion x360 11th Gen Intel Core i7 14 inc...      5    84,990\n",
       "8  HP Victus 11th Gen Intel Core i7-11800H 16.1-i...      1  1,20,062\n",
       "9  ASUS Zenbook 14 OLED (2022), 14\" (35.56 cms) 2...      2  1,04,849"
      ]
     },
     "execution_count": 48,
     "metadata": {},
     "output_type": "execute_result"
    }
   ],
   "source": [
    "laptop=pd.DataFrame({'Title':t,'Rating':r,'Price':p})\n",
    "laptop"
   ]
  },
  {
   "cell_type": "markdown",
   "id": "f3000318",
   "metadata": {},
   "source": [
    "# Answer 9"
   ]
  },
  {
   "cell_type": "code",
   "execution_count": 2,
   "id": "4031e37e",
   "metadata": {},
   "outputs": [],
   "source": [
    "driver=webdriver.Chrome(r\"C:\\New folder\\chromedriver.exe\")\n",
    "\n",
    "driver.get(\"https://www.ambitionbox.com/\")"
   ]
  },
  {
   "cell_type": "code",
   "execution_count": 3,
   "id": "40beabf0",
   "metadata": {},
   "outputs": [],
   "source": [
    "for_job=driver.find_element_by_xpath(\"//a[@class='link jobs']\")\n",
    "for_job.click()"
   ]
  },
  {
   "cell_type": "code",
   "execution_count": 4,
   "id": "ff421464",
   "metadata": {
    "collapsed": true
   },
   "outputs": [
    {
     "ename": "ElementNotInteractableException",
     "evalue": "Message: element not interactable\n  (Session info: chrome=102.0.5005.115)\nStacktrace:\nBacktrace:\n\tOrdinal0 [0x0118D953+2414931]\n\tOrdinal0 [0x0111F5E1+1963489]\n\tOrdinal0 [0x0100C580+836992]\n\tOrdinal0 [0x01034BE3+1002467]\n\tOrdinal0 [0x010342C8+1000136]\n\tOrdinal0 [0x0105449C+1131676]\n\tOrdinal0 [0x0102FC74+982132]\n\tOrdinal0 [0x010546B4+1132212]\n\tOrdinal0 [0x01064812+1198098]\n\tOrdinal0 [0x010542B6+1131190]\n\tOrdinal0 [0x0102E860+976992]\n\tOrdinal0 [0x0102F756+980822]\n\tGetHandleVerifier [0x013FCC62+2510274]\n\tGetHandleVerifier [0x013EF760+2455744]\n\tGetHandleVerifier [0x0121EABA+551962]\n\tGetHandleVerifier [0x0121D916+547446]\n\tOrdinal0 [0x01125F3B+1990459]\n\tOrdinal0 [0x0112A898+2009240]\n\tOrdinal0 [0x0112A985+2009477]\n\tOrdinal0 [0x01133AD1+2046673]\n\tBaseThreadInitThunk [0x76B56739+25]\n\tRtlGetFullPathName_UEx [0x77738FEF+1215]\n\tRtlGetFullPathName_UEx [0x77738FBD+1165]\n",
     "output_type": "error",
     "traceback": [
      "\u001b[1;31m---------------------------------------------------------------------------\u001b[0m",
      "\u001b[1;31mElementNotInteractableException\u001b[0m           Traceback (most recent call last)",
      "Input \u001b[1;32mIn [4]\u001b[0m, in \u001b[0;36m<cell line: 2>\u001b[1;34m()\u001b[0m\n\u001b[0;32m      1\u001b[0m products\u001b[38;5;241m=\u001b[39mdriver\u001b[38;5;241m.\u001b[39mfind_element_by_class_name(\u001b[38;5;124m\"\u001b[39m\u001b[38;5;124mtwitter-typeahead\u001b[39m\u001b[38;5;124m\"\u001b[39m)\n\u001b[1;32m----> 2\u001b[0m \u001b[43mproducts\u001b[49m\u001b[38;5;241;43m.\u001b[39;49m\u001b[43msend_keys\u001b[49m\u001b[43m(\u001b[49m\u001b[38;5;124;43m'\u001b[39;49m\u001b[38;5;124;43mData Scientist\u001b[39;49m\u001b[38;5;124;43m'\u001b[39;49m\u001b[43m)\u001b[49m\n\u001b[0;32m      3\u001b[0m search_button\u001b[38;5;241m=\u001b[39mdriver\u001b[38;5;241m.\u001b[39mfind_element_by_xpath(\u001b[38;5;124m\"\u001b[39m\u001b[38;5;124m/html/body/div/div/div/div[2]/div[1]/div[1]/div/div/div/button\u001b[39m\u001b[38;5;124m\"\u001b[39m)\n\u001b[0;32m      4\u001b[0m search_button\u001b[38;5;241m.\u001b[39mclick()\n",
      "File \u001b[1;32m~\\anaconda3\\lib\\site-packages\\selenium\\webdriver\\remote\\webelement.py:600\u001b[0m, in \u001b[0;36mWebElement.send_keys\u001b[1;34m(self, *value)\u001b[0m\n\u001b[0;32m    597\u001b[0m             remote_files\u001b[38;5;241m.\u001b[39mappend(\u001b[38;5;28mself\u001b[39m\u001b[38;5;241m.\u001b[39m_upload(file))\n\u001b[0;32m    598\u001b[0m         value \u001b[38;5;241m=\u001b[39m \u001b[38;5;124m'\u001b[39m\u001b[38;5;130;01m\\n\u001b[39;00m\u001b[38;5;124m'\u001b[39m\u001b[38;5;241m.\u001b[39mjoin(remote_files)\n\u001b[1;32m--> 600\u001b[0m \u001b[38;5;28;43mself\u001b[39;49m\u001b[38;5;241;43m.\u001b[39;49m\u001b[43m_execute\u001b[49m\u001b[43m(\u001b[49m\u001b[43mCommand\u001b[49m\u001b[38;5;241;43m.\u001b[39;49m\u001b[43mSEND_KEYS_TO_ELEMENT\u001b[49m\u001b[43m,\u001b[49m\n\u001b[0;32m    601\u001b[0m \u001b[43m              \u001b[49m\u001b[43m{\u001b[49m\u001b[38;5;124;43m'\u001b[39;49m\u001b[38;5;124;43mtext\u001b[39;49m\u001b[38;5;124;43m'\u001b[39;49m\u001b[43m:\u001b[49m\u001b[43m \u001b[49m\u001b[38;5;124;43m\"\u001b[39;49m\u001b[38;5;124;43m\"\u001b[39;49m\u001b[38;5;241;43m.\u001b[39;49m\u001b[43mjoin\u001b[49m\u001b[43m(\u001b[49m\u001b[43mkeys_to_typing\u001b[49m\u001b[43m(\u001b[49m\u001b[43mvalue\u001b[49m\u001b[43m)\u001b[49m\u001b[43m)\u001b[49m\u001b[43m,\u001b[49m\n\u001b[0;32m    602\u001b[0m \u001b[43m               \u001b[49m\u001b[38;5;124;43m'\u001b[39;49m\u001b[38;5;124;43mvalue\u001b[39;49m\u001b[38;5;124;43m'\u001b[39;49m\u001b[43m:\u001b[49m\u001b[43m \u001b[49m\u001b[43mkeys_to_typing\u001b[49m\u001b[43m(\u001b[49m\u001b[43mvalue\u001b[49m\u001b[43m)\u001b[49m\u001b[43m}\u001b[49m\u001b[43m)\u001b[49m\n",
      "File \u001b[1;32m~\\anaconda3\\lib\\site-packages\\selenium\\webdriver\\remote\\webelement.py:773\u001b[0m, in \u001b[0;36mWebElement._execute\u001b[1;34m(self, command, params)\u001b[0m\n\u001b[0;32m    771\u001b[0m     params \u001b[38;5;241m=\u001b[39m {}\n\u001b[0;32m    772\u001b[0m params[\u001b[38;5;124m'\u001b[39m\u001b[38;5;124mid\u001b[39m\u001b[38;5;124m'\u001b[39m] \u001b[38;5;241m=\u001b[39m \u001b[38;5;28mself\u001b[39m\u001b[38;5;241m.\u001b[39m_id\n\u001b[1;32m--> 773\u001b[0m \u001b[38;5;28;01mreturn\u001b[39;00m \u001b[38;5;28;43mself\u001b[39;49m\u001b[38;5;241;43m.\u001b[39;49m\u001b[43m_parent\u001b[49m\u001b[38;5;241;43m.\u001b[39;49m\u001b[43mexecute\u001b[49m\u001b[43m(\u001b[49m\u001b[43mcommand\u001b[49m\u001b[43m,\u001b[49m\u001b[43m \u001b[49m\u001b[43mparams\u001b[49m\u001b[43m)\u001b[49m\n",
      "File \u001b[1;32m~\\anaconda3\\lib\\site-packages\\selenium\\webdriver\\remote\\webdriver.py:430\u001b[0m, in \u001b[0;36mWebDriver.execute\u001b[1;34m(self, driver_command, params)\u001b[0m\n\u001b[0;32m    428\u001b[0m response \u001b[38;5;241m=\u001b[39m \u001b[38;5;28mself\u001b[39m\u001b[38;5;241m.\u001b[39mcommand_executor\u001b[38;5;241m.\u001b[39mexecute(driver_command, params)\n\u001b[0;32m    429\u001b[0m \u001b[38;5;28;01mif\u001b[39;00m response:\n\u001b[1;32m--> 430\u001b[0m     \u001b[38;5;28;43mself\u001b[39;49m\u001b[38;5;241;43m.\u001b[39;49m\u001b[43merror_handler\u001b[49m\u001b[38;5;241;43m.\u001b[39;49m\u001b[43mcheck_response\u001b[49m\u001b[43m(\u001b[49m\u001b[43mresponse\u001b[49m\u001b[43m)\u001b[49m\n\u001b[0;32m    431\u001b[0m     response[\u001b[38;5;124m'\u001b[39m\u001b[38;5;124mvalue\u001b[39m\u001b[38;5;124m'\u001b[39m] \u001b[38;5;241m=\u001b[39m \u001b[38;5;28mself\u001b[39m\u001b[38;5;241m.\u001b[39m_unwrap_value(\n\u001b[0;32m    432\u001b[0m         response\u001b[38;5;241m.\u001b[39mget(\u001b[38;5;124m'\u001b[39m\u001b[38;5;124mvalue\u001b[39m\u001b[38;5;124m'\u001b[39m, \u001b[38;5;28;01mNone\u001b[39;00m))\n\u001b[0;32m    433\u001b[0m     \u001b[38;5;28;01mreturn\u001b[39;00m response\n",
      "File \u001b[1;32m~\\anaconda3\\lib\\site-packages\\selenium\\webdriver\\remote\\errorhandler.py:247\u001b[0m, in \u001b[0;36mErrorHandler.check_response\u001b[1;34m(self, response)\u001b[0m\n\u001b[0;32m    245\u001b[0m         alert_text \u001b[38;5;241m=\u001b[39m value[\u001b[38;5;124m'\u001b[39m\u001b[38;5;124malert\u001b[39m\u001b[38;5;124m'\u001b[39m]\u001b[38;5;241m.\u001b[39mget(\u001b[38;5;124m'\u001b[39m\u001b[38;5;124mtext\u001b[39m\u001b[38;5;124m'\u001b[39m)\n\u001b[0;32m    246\u001b[0m     \u001b[38;5;28;01mraise\u001b[39;00m exception_class(message, screen, stacktrace, alert_text)  \u001b[38;5;66;03m# type: ignore[call-arg]  # mypy is not smart enough here\u001b[39;00m\n\u001b[1;32m--> 247\u001b[0m \u001b[38;5;28;01mraise\u001b[39;00m exception_class(message, screen, stacktrace)\n",
      "\u001b[1;31mElementNotInteractableException\u001b[0m: Message: element not interactable\n  (Session info: chrome=102.0.5005.115)\nStacktrace:\nBacktrace:\n\tOrdinal0 [0x0118D953+2414931]\n\tOrdinal0 [0x0111F5E1+1963489]\n\tOrdinal0 [0x0100C580+836992]\n\tOrdinal0 [0x01034BE3+1002467]\n\tOrdinal0 [0x010342C8+1000136]\n\tOrdinal0 [0x0105449C+1131676]\n\tOrdinal0 [0x0102FC74+982132]\n\tOrdinal0 [0x010546B4+1132212]\n\tOrdinal0 [0x01064812+1198098]\n\tOrdinal0 [0x010542B6+1131190]\n\tOrdinal0 [0x0102E860+976992]\n\tOrdinal0 [0x0102F756+980822]\n\tGetHandleVerifier [0x013FCC62+2510274]\n\tGetHandleVerifier [0x013EF760+2455744]\n\tGetHandleVerifier [0x0121EABA+551962]\n\tGetHandleVerifier [0x0121D916+547446]\n\tOrdinal0 [0x01125F3B+1990459]\n\tOrdinal0 [0x0112A898+2009240]\n\tOrdinal0 [0x0112A985+2009477]\n\tOrdinal0 [0x01133AD1+2046673]\n\tBaseThreadInitThunk [0x76B56739+25]\n\tRtlGetFullPathName_UEx [0x77738FEF+1215]\n\tRtlGetFullPathName_UEx [0x77738FBD+1165]\n"
     ]
    }
   ],
   "source": [
    "products=driver.find_element_by_class_name(\"twitter-typeahead\")\n",
    "products.send_keys('Data Scientist')\n",
    "search_button=driver.find_element_by_xpath(\"/html/body/div/div/div/div[2]/div[1]/div[1]/div/div/div/button\")\n",
    "search_button.click()"
   ]
  },
  {
   "cell_type": "code",
   "execution_count": 6,
   "id": "4cf0926a",
   "metadata": {},
   "outputs": [],
   "source": [
    "location = driver.find_element_by_xpath(\"/html/body/div/div/div/div[2]/div[1]/div[2]/div[1]/div/div/div/div[2]/div[2]/div/div[3]/div[1]/div[2]/div/label\")\n",
    "location.click()"
   ]
  },
  {
   "cell_type": "code",
   "execution_count": 7,
   "id": "7bdefa3d",
   "metadata": {},
   "outputs": [],
   "source": [
    "title_list=[]\n",
    "comp_list=[]\n",
    "loc_list=[]"
   ]
  },
  {
   "cell_type": "code",
   "execution_count": 11,
   "id": "74b7e076",
   "metadata": {
    "collapsed": true
   },
   "outputs": [
    {
     "data": {
      "text/plain": [
       "['Data Scientist',\n",
       " 'Data Scientist -Machine Learning with Python',\n",
       " 'Data Scientist - OIP',\n",
       " 'Data Scientist- AI/ML- R&D',\n",
       " 'Data Scientist (Python) Immediate Joiners',\n",
       " 'Data Scientist - MIND Infotech',\n",
       " 'Data Scientist',\n",
       " 'Data Scientist',\n",
       " 'Data Scientist',\n",
       " 'Data Scientist - Immediate Joiners']"
      ]
     },
     "execution_count": 11,
     "metadata": {},
     "output_type": "execute_result"
    }
   ],
   "source": [
    "title_tag=driver.find_elements_by_xpath(\"//a[@class='title noclick']\")\n",
    "for i in title_tag:\n",
    "    title=i.text\n",
    "    title_list.append(title)\n",
    "title_list[0:10]"
   ]
  },
  {
   "cell_type": "code",
   "execution_count": 13,
   "id": "bbfc2fe5",
   "metadata": {
    "collapsed": true
   },
   "outputs": [
    {
     "data": {
      "text/plain": [
       "['GENPACT India Private Limited',\n",
       " 'GENPACT India Private Limited',\n",
       " 'Hcl Technologies Limited',\n",
       " 'EXL Services.com ( I ) Pvt. Ltd.',\n",
       " 'Om Software Internet Solutions Private Limited',\n",
       " 'MOTHERSONSUMI INFOTECH & DESIGNS LIMITED',\n",
       " 'Ashkom Media India Private Limited',\n",
       " 'Ashkom Media India Private Limited',\n",
       " 'Ashkom Media India Private Limited',\n",
       " 'Bristlecone India Limited']"
      ]
     },
     "execution_count": 13,
     "metadata": {},
     "output_type": "execute_result"
    }
   ],
   "source": [
    "comp_tag=driver.find_elements_by_xpath(\"//p[@class='company body-medium']\")\n",
    "for i in comp_tag:\n",
    "    comp=i.text\n",
    "    comp_list.append(comp)\n",
    "comp_list[0:10]"
   ]
  },
  {
   "cell_type": "code",
   "execution_count": 15,
   "id": "d9e0d321",
   "metadata": {
    "collapsed": true
   },
   "outputs": [
    {
     "data": {
      "text/plain": [
       "['Bengaluru/Bangalore, Hyderabad/Secunderabad, Gurgaon/Gurugram + 1 more',\n",
       " 'Bengaluru/Bangalore, Hyderabad/Secunderabad, Gurgaon/Gurugram +1 more',\n",
       " 'Delhi NCR, New Delhi, Gurgaon/Gurugram +1 more',\n",
       " 'Bengaluru/Bangalore, Noida',\n",
       " 'Chennai, Pune, Delhi NCR +4 more',\n",
       " 'Pune, Ahmedabad, Noida',\n",
       " 'Noida',\n",
       " 'Noida',\n",
       " 'Bengaluru/Bangalore, Noida',\n",
       " 'Noida']"
      ]
     },
     "execution_count": 15,
     "metadata": {},
     "output_type": "execute_result"
    }
   ],
   "source": [
    "loc_tag=driver.find_elements_by_xpath(\"//div[@class='entity loc']\")\n",
    "for i in loc_tag:\n",
    "    loc=i.text\n",
    "    loc_list.append(loc)\n",
    "loc_list[0:10]"
   ]
  },
  {
   "cell_type": "code",
   "execution_count": 16,
   "id": "df142203",
   "metadata": {},
   "outputs": [
    {
     "name": "stdout",
     "output_type": "stream",
     "text": [
      "10 10 22\n"
     ]
    }
   ],
   "source": [
    "print(len(title_list),len(comp_list),len(loc_list))"
   ]
  },
  {
   "cell_type": "code",
   "execution_count": 17,
   "id": "c67f053e",
   "metadata": {
    "collapsed": true
   },
   "outputs": [
    {
     "data": {
      "text/plain": [
       "['Bengaluru/Bangalore, Hyderabad/Secunderabad, Gurgaon/Gurugram + 1 more',\n",
       " 'Bengaluru/Bangalore, Hyderabad/Secunderabad, Gurgaon/Gurugram +1 more',\n",
       " 'Delhi NCR, New Delhi, Gurgaon/Gurugram +1 more',\n",
       " 'Bengaluru/Bangalore, Noida',\n",
       " 'Chennai, Pune, Delhi NCR +4 more',\n",
       " 'Pune, Ahmedabad, Noida',\n",
       " 'Noida',\n",
       " 'Noida',\n",
       " 'Bengaluru/Bangalore, Noida',\n",
       " 'Noida']"
      ]
     },
     "execution_count": 17,
     "metadata": {},
     "output_type": "execute_result"
    }
   ],
   "source": [
    "l=loc_list[0:10]\n",
    "l"
   ]
  },
  {
   "cell_type": "code",
   "execution_count": 18,
   "id": "92478efa",
   "metadata": {},
   "outputs": [
    {
     "data": {
      "text/html": [
       "<div>\n",
       "<style scoped>\n",
       "    .dataframe tbody tr th:only-of-type {\n",
       "        vertical-align: middle;\n",
       "    }\n",
       "\n",
       "    .dataframe tbody tr th {\n",
       "        vertical-align: top;\n",
       "    }\n",
       "\n",
       "    .dataframe thead th {\n",
       "        text-align: right;\n",
       "    }\n",
       "</style>\n",
       "<table border=\"1\" class=\"dataframe\">\n",
       "  <thead>\n",
       "    <tr style=\"text-align: right;\">\n",
       "      <th></th>\n",
       "      <th>Tile</th>\n",
       "      <th>Company</th>\n",
       "      <th>Location</th>\n",
       "    </tr>\n",
       "  </thead>\n",
       "  <tbody>\n",
       "    <tr>\n",
       "      <th>0</th>\n",
       "      <td>Data Scientist</td>\n",
       "      <td>GENPACT India Private Limited</td>\n",
       "      <td>Bengaluru/Bangalore, Hyderabad/Secunderabad, G...</td>\n",
       "    </tr>\n",
       "    <tr>\n",
       "      <th>1</th>\n",
       "      <td>Data Scientist -Machine Learning with Python</td>\n",
       "      <td>GENPACT India Private Limited</td>\n",
       "      <td>Bengaluru/Bangalore, Hyderabad/Secunderabad, G...</td>\n",
       "    </tr>\n",
       "    <tr>\n",
       "      <th>2</th>\n",
       "      <td>Data Scientist - OIP</td>\n",
       "      <td>Hcl Technologies Limited</td>\n",
       "      <td>Delhi NCR, New Delhi, Gurgaon/Gurugram +1 more</td>\n",
       "    </tr>\n",
       "    <tr>\n",
       "      <th>3</th>\n",
       "      <td>Data Scientist- AI/ML- R&amp;D</td>\n",
       "      <td>EXL Services.com ( I ) Pvt. Ltd.</td>\n",
       "      <td>Bengaluru/Bangalore, Noida</td>\n",
       "    </tr>\n",
       "    <tr>\n",
       "      <th>4</th>\n",
       "      <td>Data Scientist (Python) Immediate Joiners</td>\n",
       "      <td>Om Software Internet Solutions Private Limited</td>\n",
       "      <td>Chennai, Pune, Delhi NCR +4 more</td>\n",
       "    </tr>\n",
       "    <tr>\n",
       "      <th>5</th>\n",
       "      <td>Data Scientist - MIND Infotech</td>\n",
       "      <td>MOTHERSONSUMI INFOTECH &amp; DESIGNS LIMITED</td>\n",
       "      <td>Pune, Ahmedabad, Noida</td>\n",
       "    </tr>\n",
       "    <tr>\n",
       "      <th>6</th>\n",
       "      <td>Data Scientist</td>\n",
       "      <td>Ashkom Media India Private Limited</td>\n",
       "      <td>Noida</td>\n",
       "    </tr>\n",
       "    <tr>\n",
       "      <th>7</th>\n",
       "      <td>Data Scientist</td>\n",
       "      <td>Ashkom Media India Private Limited</td>\n",
       "      <td>Noida</td>\n",
       "    </tr>\n",
       "    <tr>\n",
       "      <th>8</th>\n",
       "      <td>Data Scientist</td>\n",
       "      <td>Ashkom Media India Private Limited</td>\n",
       "      <td>Bengaluru/Bangalore, Noida</td>\n",
       "    </tr>\n",
       "    <tr>\n",
       "      <th>9</th>\n",
       "      <td>Data Scientist - Immediate Joiners</td>\n",
       "      <td>Bristlecone India Limited</td>\n",
       "      <td>Noida</td>\n",
       "    </tr>\n",
       "  </tbody>\n",
       "</table>\n",
       "</div>"
      ],
      "text/plain": [
       "                                           Tile  \\\n",
       "0                                Data Scientist   \n",
       "1  Data Scientist -Machine Learning with Python   \n",
       "2                          Data Scientist - OIP   \n",
       "3                    Data Scientist- AI/ML- R&D   \n",
       "4     Data Scientist (Python) Immediate Joiners   \n",
       "5                Data Scientist - MIND Infotech   \n",
       "6                                Data Scientist   \n",
       "7                                Data Scientist   \n",
       "8                                Data Scientist   \n",
       "9            Data Scientist - Immediate Joiners   \n",
       "\n",
       "                                          Company  \\\n",
       "0                   GENPACT India Private Limited   \n",
       "1                   GENPACT India Private Limited   \n",
       "2                        Hcl Technologies Limited   \n",
       "3                EXL Services.com ( I ) Pvt. Ltd.   \n",
       "4  Om Software Internet Solutions Private Limited   \n",
       "5        MOTHERSONSUMI INFOTECH & DESIGNS LIMITED   \n",
       "6              Ashkom Media India Private Limited   \n",
       "7              Ashkom Media India Private Limited   \n",
       "8              Ashkom Media India Private Limited   \n",
       "9                       Bristlecone India Limited   \n",
       "\n",
       "                                            Location  \n",
       "0  Bengaluru/Bangalore, Hyderabad/Secunderabad, G...  \n",
       "1  Bengaluru/Bangalore, Hyderabad/Secunderabad, G...  \n",
       "2     Delhi NCR, New Delhi, Gurgaon/Gurugram +1 more  \n",
       "3                         Bengaluru/Bangalore, Noida  \n",
       "4                   Chennai, Pune, Delhi NCR +4 more  \n",
       "5                             Pune, Ahmedabad, Noida  \n",
       "6                                              Noida  \n",
       "7                                              Noida  \n",
       "8                         Bengaluru/Bangalore, Noida  \n",
       "9                                              Noida  "
      ]
     },
     "execution_count": 18,
     "metadata": {},
     "output_type": "execute_result"
    }
   ],
   "source": [
    "data_scientist=pd.DataFrame({'Tile':title_list,'Company':comp_list,'Location':l})\n",
    "data_scientist"
   ]
  },
  {
   "cell_type": "code",
   "execution_count": null,
   "id": "2049459d",
   "metadata": {},
   "outputs": [],
   "source": []
  }
 ],
 "metadata": {
  "kernelspec": {
   "display_name": "Python 3 (ipykernel)",
   "language": "python",
   "name": "python3"
  },
  "language_info": {
   "codemirror_mode": {
    "name": "ipython",
    "version": 3
   },
   "file_extension": ".py",
   "mimetype": "text/x-python",
   "name": "python",
   "nbconvert_exporter": "python",
   "pygments_lexer": "ipython3",
   "version": "3.9.12"
  }
 },
 "nbformat": 4,
 "nbformat_minor": 5
}
