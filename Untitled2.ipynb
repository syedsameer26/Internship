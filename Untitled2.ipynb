{
 "cells": [
  {
   "cell_type": "code",
   "execution_count": 2,
   "id": "8d6a0ee1",
   "metadata": {},
   "outputs": [],
   "source": [
    "#Question11. Write a python program to find a factorial of number."
   ]
  },
  {
   "cell_type": "code",
   "execution_count": 3,
   "id": "712d2d3d",
   "metadata": {},
   "outputs": [
    {
     "name": "stdout",
     "output_type": "stream",
     "text": [
      "['__doc__', '__loader__', '__name__', '__package__', '__spec__', 'acos', 'acosh', 'asin', 'asinh', 'atan', 'atan2', 'atanh', 'ceil', 'comb', 'copysign', 'cos', 'cosh', 'degrees', 'dist', 'e', 'erf', 'erfc', 'exp', 'expm1', 'fabs', 'factorial', 'floor', 'fmod', 'frexp', 'fsum', 'gamma', 'gcd', 'hypot', 'inf', 'isclose', 'isfinite', 'isinf', 'isnan', 'isqrt', 'lcm', 'ldexp', 'lgamma', 'log', 'log10', 'log1p', 'log2', 'modf', 'nan', 'nextafter', 'perm', 'pi', 'pow', 'prod', 'radians', 'remainder', 'sin', 'sinh', 'sqrt', 'tan', 'tanh', 'tau', 'trunc', 'ulp']\n"
     ]
    }
   ],
   "source": [
    "import math \n",
    "print(dir(math))"
   ]
  },
  {
   "cell_type": "code",
   "execution_count": 7,
   "id": "435e315e",
   "metadata": {},
   "outputs": [
    {
     "data": {
      "text/plain": [
       "1"
      ]
     },
     "execution_count": 7,
     "metadata": {},
     "output_type": "execute_result"
    }
   ],
   "source": [
    "math.factorial(0)"
   ]
  },
  {
   "cell_type": "code",
   "execution_count": 9,
   "id": "338dafff",
   "metadata": {},
   "outputs": [],
   "source": [
    "#importing factorial\n",
    "from math import factorial"
   ]
  },
  {
   "cell_type": "code",
   "execution_count": 13,
   "id": "49d4df2a",
   "metadata": {},
   "outputs": [
    {
     "name": "stdout",
     "output_type": "stream",
     "text": [
      "Enter the number100\n",
      "factorialof the given number is 93326215443944152681699238856266700490715968264381621468592963895217599993229915608941463976156518286253697920827223758251185210916864000000000000000000000000\n"
     ]
    }
   ],
   "source": [
    "#taking input from user\n",
    "num= int(input(\"Enter the number\"))\n",
    "fact= math.factorial(num)\n",
    "print(\"factorialof the given number is\",fact)\n"
   ]
  },
  {
   "cell_type": "code",
   "execution_count": 17,
   "id": "b9ebb59b",
   "metadata": {},
   "outputs": [],
   "source": [
    "#Question12. write a program to find whether a number is prime or composite."
   ]
  },
  {
   "cell_type": "code",
   "execution_count": 27,
   "id": "d877f1ad",
   "metadata": {},
   "outputs": [
    {
     "ename": "SyntaxError",
     "evalue": "invalid syntax (902770588.py, line 5)",
     "output_type": "error",
     "traceback": [
      "\u001b[1;36m  Input \u001b[1;32mIn [27]\u001b[1;36m\u001b[0m\n\u001b[1;33m    elif xyz>1:\u001b[0m\n\u001b[1;37m    ^\u001b[0m\n\u001b[1;31mSyntaxError\u001b[0m\u001b[1;31m:\u001b[0m invalid syntax\n"
     ]
    }
   ],
   "source": [
    "xyz= int(input(\"enter the number\"))\n",
    "\n",
    "if (xyz==0 or xyz==1):\n",
    "    print(xyz,\"numberis neither prime nor composite\")\n",
    "    elif xyz>1:\n",
    "        for i in range(2,xyz):\n",
    "            if(xyz%i ==0):\n",
    "                print(xyz,\"it is composite number but not prime\")\n",
    "                break\n",
    "        else:\n",
    "            print(xyz,\"number is prime but not composite\")\n",
    "            else:\n",
    "                print(\"please enter a positive number only\")"
   ]
  },
  {
   "cell_type": "code",
   "execution_count": 28,
   "id": "c1c9bea7",
   "metadata": {},
   "outputs": [],
   "source": [
    "#Question13.write a pyton program to check whether a given string is palindrome or not. "
   ]
  },
  {
   "cell_type": "code",
   "execution_count": null,
   "id": "d73a45df",
   "metadata": {},
   "outputs": [],
   "source": [
    "\n"
   ]
  }
 ],
 "metadata": {
  "kernelspec": {
   "display_name": "Python 3 (ipykernel)",
   "language": "python",
   "name": "python3"
  },
  "language_info": {
   "codemirror_mode": {
    "name": "ipython",
    "version": 3
   },
   "file_extension": ".py",
   "mimetype": "text/x-python",
   "name": "python",
   "nbconvert_exporter": "python",
   "pygments_lexer": "ipython3",
   "version": "3.9.12"
  }
 },
 "nbformat": 4,
 "nbformat_minor": 5
}
